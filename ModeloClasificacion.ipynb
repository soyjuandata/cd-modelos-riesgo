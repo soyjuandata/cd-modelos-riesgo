{
 "cells": [
  {
   "cell_type": "markdown",
   "metadata": {},
   "source": [
    "# PROYECTO: MODELO DE RIESGO"
   ]
  },
  {
   "cell_type": "markdown",
   "metadata": {},
   "source": [
    "- María José Castillo Silva\n",
    "- Juan David Bocanegra Vargas"
   ]
  },
  {
   "cell_type": "code",
   "execution_count": 1,
   "metadata": {},
   "outputs": [
    {
     "data": {
      "text/html": [
       "<style>.container{ width:98% }</style>"
      ],
      "text/plain": [
       "<IPython.core.display.HTML object>"
      ]
     },
     "metadata": {},
     "output_type": "display_data"
    }
   ],
   "source": [
    "# Permite ajustar la anchura de la parte útil de la libreta (reduce los márgenes) y omitir warnings\n",
    "import warnings; warnings.filterwarnings(\"ignore\")\n",
    "from IPython.core.display import display, HTML\n",
    "display(HTML(\"<style>.container{ width:98% }</style>\"))"
   ]
  },
  {
   "cell_type": "markdown",
   "metadata": {},
   "source": [
    "# 1. Problema a Analizar\n",
    "\n",
    "# ¿Cuál es la probabilidad de riesgo de default asociada a cada cliente, dadas sus diferentes características?.\n",
    "\n",
    "La principal fuente de datos es Datacredito Experian, quienes envían información de los clientes actuales de la Entidad, incluyendo las siguientes variables: “Acierta Advance”, score de crédito del sector financiero, saldos, estados de productos crediticios y también información demografica como edad, sexo, entre otras."
   ]
  },
  {
   "cell_type": "markdown",
   "metadata": {},
   "source": [
    "# 2. Impacto del Problema\n",
    "\n",
    "Actualmente en las áreas de riesgo de crédito en el sector bancario, se definen constantemente políticas que permiten soportar la toma de decisiones en la originación  de productos, que en la medida de lo posible, estén enmarcadas en la agilidad y precisión de la respuesta a clientes, y vayan en línea con el apetito financiero propuesto por la Junta Directiva."
   ]
  },
  {
   "cell_type": "markdown",
   "metadata": {},
   "source": [
    "# 3. Datos, primer análisis exploratorio"
   ]
  },
  {
   "cell_type": "markdown",
   "metadata": {},
   "source": [
    "## Instalación de Librerias"
   ]
  },
  {
   "cell_type": "code",
   "execution_count": 2,
   "metadata": {},
   "outputs": [
    {
     "name": "stdout",
     "output_type": "stream",
     "text": [
      "Requirement already satisfied: eli5 in c:\\users\\tavov\\anaconda3\\lib\\site-packages (0.16.0)\n",
      "Requirement already satisfied: attrs>17.1.0 in c:\\users\\tavov\\anaconda3\\lib\\site-packages (from eli5) (23.1.0)\n",
      "Requirement already satisfied: jinja2>=3.0.0 in c:\\users\\tavov\\anaconda3\\lib\\site-packages (from eli5) (3.1.4)\n",
      "Requirement already satisfied: numpy>=1.9.0 in c:\\users\\tavov\\anaconda3\\lib\\site-packages (from eli5) (1.26.4)\n",
      "Requirement already satisfied: scipy in c:\\users\\tavov\\anaconda3\\lib\\site-packages (from eli5) (1.13.1)\n",
      "Collecting scikit-learn>=1.6.0 (from eli5)\n",
      "  Using cached scikit_learn-1.7.2-cp312-cp312-win_amd64.whl.metadata (11 kB)\n",
      "Requirement already satisfied: graphviz in c:\\users\\tavov\\anaconda3\\lib\\site-packages (from eli5) (0.21)\n",
      "Requirement already satisfied: tabulate>=0.7.7 in c:\\users\\tavov\\anaconda3\\lib\\site-packages (from eli5) (0.9.0)\n",
      "Requirement already satisfied: MarkupSafe>=2.0 in c:\\users\\tavov\\anaconda3\\lib\\site-packages (from jinja2>=3.0.0->eli5) (2.1.3)\n",
      "Requirement already satisfied: joblib>=1.2.0 in c:\\users\\tavov\\anaconda3\\lib\\site-packages (from scikit-learn>=1.6.0->eli5) (1.4.2)\n",
      "Requirement already satisfied: threadpoolctl>=3.1.0 in c:\\users\\tavov\\anaconda3\\lib\\site-packages (from scikit-learn>=1.6.0->eli5) (3.5.0)\n",
      "Using cached scikit_learn-1.7.2-cp312-cp312-win_amd64.whl (8.7 MB)\n",
      "Installing collected packages: scikit-learn\n",
      "  Attempting uninstall: scikit-learn\n",
      "    Found existing installation: scikit-learn 1.5.2\n",
      "    Uninstalling scikit-learn-1.5.2:\n",
      "      Successfully uninstalled scikit-learn-1.5.2\n",
      "Successfully installed scikit-learn-1.7.2\n",
      "Requirement already satisfied: pandas in c:\\users\\tavov\\anaconda3\\lib\\site-packages (2.2.2)\n",
      "Requirement already satisfied: numpy>=1.26.0 in c:\\users\\tavov\\anaconda3\\lib\\site-packages (from pandas) (1.26.4)\n",
      "Requirement already satisfied: python-dateutil>=2.8.2 in c:\\users\\tavov\\anaconda3\\lib\\site-packages (from pandas) (2.9.0.post0)\n",
      "Requirement already satisfied: pytz>=2020.1 in c:\\users\\tavov\\anaconda3\\lib\\site-packages (from pandas) (2024.1)\n",
      "Requirement already satisfied: tzdata>=2022.7 in c:\\users\\tavov\\anaconda3\\lib\\site-packages (from pandas) (2023.3)\n",
      "Requirement already satisfied: six>=1.5 in c:\\users\\tavov\\anaconda3\\lib\\site-packages (from python-dateutil>=2.8.2->pandas) (1.16.0)\n",
      "Requirement already satisfied: numpy in c:\\users\\tavov\\anaconda3\\lib\\site-packages (1.26.4)\n",
      "Requirement already satisfied: seaborn in c:\\users\\tavov\\anaconda3\\lib\\site-packages (0.13.2)\n",
      "Requirement already satisfied: numpy!=1.24.0,>=1.20 in c:\\users\\tavov\\anaconda3\\lib\\site-packages (from seaborn) (1.26.4)\n",
      "Requirement already satisfied: pandas>=1.2 in c:\\users\\tavov\\anaconda3\\lib\\site-packages (from seaborn) (2.2.2)\n",
      "Requirement already satisfied: matplotlib!=3.6.1,>=3.4 in c:\\users\\tavov\\anaconda3\\lib\\site-packages (from seaborn) (3.9.2)\n",
      "Requirement already satisfied: contourpy>=1.0.1 in c:\\users\\tavov\\anaconda3\\lib\\site-packages (from matplotlib!=3.6.1,>=3.4->seaborn) (1.2.0)\n",
      "Requirement already satisfied: cycler>=0.10 in c:\\users\\tavov\\anaconda3\\lib\\site-packages (from matplotlib!=3.6.1,>=3.4->seaborn) (0.11.0)\n",
      "Requirement already satisfied: fonttools>=4.22.0 in c:\\users\\tavov\\anaconda3\\lib\\site-packages (from matplotlib!=3.6.1,>=3.4->seaborn) (4.51.0)\n",
      "Requirement already satisfied: kiwisolver>=1.3.1 in c:\\users\\tavov\\anaconda3\\lib\\site-packages (from matplotlib!=3.6.1,>=3.4->seaborn) (1.4.4)\n",
      "Requirement already satisfied: packaging>=20.0 in c:\\users\\tavov\\anaconda3\\lib\\site-packages (from matplotlib!=3.6.1,>=3.4->seaborn) (24.1)\n",
      "Requirement already satisfied: pillow>=8 in c:\\users\\tavov\\anaconda3\\lib\\site-packages (from matplotlib!=3.6.1,>=3.4->seaborn) (10.4.0)\n",
      "Requirement already satisfied: pyparsing>=2.3.1 in c:\\users\\tavov\\anaconda3\\lib\\site-packages (from matplotlib!=3.6.1,>=3.4->seaborn) (3.1.2)\n",
      "Requirement already satisfied: python-dateutil>=2.7 in c:\\users\\tavov\\anaconda3\\lib\\site-packages (from matplotlib!=3.6.1,>=3.4->seaborn) (2.9.0.post0)\n",
      "Requirement already satisfied: pytz>=2020.1 in c:\\users\\tavov\\anaconda3\\lib\\site-packages (from pandas>=1.2->seaborn) (2024.1)\n",
      "Requirement already satisfied: tzdata>=2022.7 in c:\\users\\tavov\\anaconda3\\lib\\site-packages (from pandas>=1.2->seaborn) (2023.3)\n",
      "Requirement already satisfied: six>=1.5 in c:\\users\\tavov\\anaconda3\\lib\\site-packages (from python-dateutil>=2.7->matplotlib!=3.6.1,>=3.4->seaborn) (1.16.0)\n",
      "Requirement already satisfied: yellowbrick in c:\\users\\tavov\\anaconda3\\lib\\site-packages (1.5)\n",
      "Requirement already satisfied: matplotlib!=3.0.0,>=2.0.2 in c:\\users\\tavov\\anaconda3\\lib\\site-packages (from yellowbrick) (3.9.2)\n",
      "Requirement already satisfied: scipy>=1.0.0 in c:\\users\\tavov\\anaconda3\\lib\\site-packages (from yellowbrick) (1.13.1)\n",
      "Requirement already satisfied: scikit-learn>=1.0.0 in c:\\users\\tavov\\anaconda3\\lib\\site-packages (from yellowbrick) (1.7.2)\n",
      "Requirement already satisfied: numpy>=1.16.0 in c:\\users\\tavov\\anaconda3\\lib\\site-packages (from yellowbrick) (1.26.4)\n",
      "Requirement already satisfied: cycler>=0.10.0 in c:\\users\\tavov\\anaconda3\\lib\\site-packages (from yellowbrick) (0.11.0)\n",
      "Requirement already satisfied: contourpy>=1.0.1 in c:\\users\\tavov\\anaconda3\\lib\\site-packages (from matplotlib!=3.0.0,>=2.0.2->yellowbrick) (1.2.0)\n",
      "Requirement already satisfied: fonttools>=4.22.0 in c:\\users\\tavov\\anaconda3\\lib\\site-packages (from matplotlib!=3.0.0,>=2.0.2->yellowbrick) (4.51.0)\n",
      "Requirement already satisfied: kiwisolver>=1.3.1 in c:\\users\\tavov\\anaconda3\\lib\\site-packages (from matplotlib!=3.0.0,>=2.0.2->yellowbrick) (1.4.4)\n",
      "Requirement already satisfied: packaging>=20.0 in c:\\users\\tavov\\anaconda3\\lib\\site-packages (from matplotlib!=3.0.0,>=2.0.2->yellowbrick) (24.1)\n",
      "Requirement already satisfied: pillow>=8 in c:\\users\\tavov\\anaconda3\\lib\\site-packages (from matplotlib!=3.0.0,>=2.0.2->yellowbrick) (10.4.0)\n",
      "Requirement already satisfied: pyparsing>=2.3.1 in c:\\users\\tavov\\anaconda3\\lib\\site-packages (from matplotlib!=3.0.0,>=2.0.2->yellowbrick) (3.1.2)\n",
      "Requirement already satisfied: python-dateutil>=2.7 in c:\\users\\tavov\\anaconda3\\lib\\site-packages (from matplotlib!=3.0.0,>=2.0.2->yellowbrick) (2.9.0.post0)\n",
      "Requirement already satisfied: joblib>=1.2.0 in c:\\users\\tavov\\anaconda3\\lib\\site-packages (from scikit-learn>=1.0.0->yellowbrick) (1.4.2)\n",
      "Requirement already satisfied: threadpoolctl>=3.1.0 in c:\\users\\tavov\\anaconda3\\lib\\site-packages (from scikit-learn>=1.0.0->yellowbrick) (3.5.0)\n",
      "Requirement already satisfied: six>=1.5 in c:\\users\\tavov\\anaconda3\\lib\\site-packages (from python-dateutil>=2.7->matplotlib!=3.0.0,>=2.0.2->yellowbrick) (1.16.0)\n",
      "Requirement already satisfied: xgboost in c:\\users\\tavov\\anaconda3\\lib\\site-packages (3.0.5)\n",
      "Requirement already satisfied: numpy in c:\\users\\tavov\\anaconda3\\lib\\site-packages (from xgboost) (1.26.4)\n",
      "Requirement already satisfied: scipy in c:\\users\\tavov\\anaconda3\\lib\\site-packages (from xgboost) (1.13.1)\n",
      "Requirement already satisfied: shap in c:\\users\\tavov\\anaconda3\\lib\\site-packages (0.48.0)\n",
      "Requirement already satisfied: numpy in c:\\users\\tavov\\anaconda3\\lib\\site-packages (from shap) (1.26.4)\n",
      "Requirement already satisfied: scipy in c:\\users\\tavov\\anaconda3\\lib\\site-packages (from shap) (1.13.1)\n",
      "Requirement already satisfied: scikit-learn in c:\\users\\tavov\\anaconda3\\lib\\site-packages (from shap) (1.7.2)\n",
      "Requirement already satisfied: pandas in c:\\users\\tavov\\anaconda3\\lib\\site-packages (from shap) (2.2.2)\n",
      "Requirement already satisfied: tqdm>=4.27.0 in c:\\users\\tavov\\anaconda3\\lib\\site-packages (from shap) (4.66.5)\n",
      "Requirement already satisfied: packaging>20.9 in c:\\users\\tavov\\anaconda3\\lib\\site-packages (from shap) (24.1)\n",
      "Requirement already satisfied: slicer==0.0.8 in c:\\users\\tavov\\anaconda3\\lib\\site-packages (from shap) (0.0.8)\n",
      "Requirement already satisfied: numba>=0.54 in c:\\users\\tavov\\anaconda3\\lib\\site-packages (from shap) (0.60.0)\n",
      "Requirement already satisfied: cloudpickle in c:\\users\\tavov\\anaconda3\\lib\\site-packages (from shap) (3.0.0)\n",
      "Requirement already satisfied: typing-extensions in c:\\users\\tavov\\anaconda3\\lib\\site-packages (from shap) (4.11.0)\n",
      "Requirement already satisfied: llvmlite<0.44,>=0.43.0dev0 in c:\\users\\tavov\\anaconda3\\lib\\site-packages (from numba>=0.54->shap) (0.43.0)\n",
      "Requirement already satisfied: colorama in c:\\users\\tavov\\anaconda3\\lib\\site-packages (from tqdm>=4.27.0->shap) (0.4.6)\n",
      "Requirement already satisfied: python-dateutil>=2.8.2 in c:\\users\\tavov\\anaconda3\\lib\\site-packages (from pandas->shap) (2.9.0.post0)\n",
      "Requirement already satisfied: pytz>=2020.1 in c:\\users\\tavov\\anaconda3\\lib\\site-packages (from pandas->shap) (2024.1)\n",
      "Requirement already satisfied: tzdata>=2022.7 in c:\\users\\tavov\\anaconda3\\lib\\site-packages (from pandas->shap) (2023.3)\n",
      "Requirement already satisfied: joblib>=1.2.0 in c:\\users\\tavov\\anaconda3\\lib\\site-packages (from scikit-learn->shap) (1.4.2)\n",
      "Requirement already satisfied: threadpoolctl>=3.1.0 in c:\\users\\tavov\\anaconda3\\lib\\site-packages (from scikit-learn->shap) (3.5.0)\n",
      "Requirement already satisfied: six>=1.5 in c:\\users\\tavov\\anaconda3\\lib\\site-packages (from python-dateutil>=2.8.2->pandas->shap) (1.16.0)\n",
      "Requirement already satisfied: matplotlib in c:\\users\\tavov\\anaconda3\\lib\\site-packages (3.9.2)\n",
      "Requirement already satisfied: contourpy>=1.0.1 in c:\\users\\tavov\\anaconda3\\lib\\site-packages (from matplotlib) (1.2.0)\n",
      "Requirement already satisfied: cycler>=0.10 in c:\\users\\tavov\\anaconda3\\lib\\site-packages (from matplotlib) (0.11.0)\n",
      "Requirement already satisfied: fonttools>=4.22.0 in c:\\users\\tavov\\anaconda3\\lib\\site-packages (from matplotlib) (4.51.0)\n",
      "Requirement already satisfied: kiwisolver>=1.3.1 in c:\\users\\tavov\\anaconda3\\lib\\site-packages (from matplotlib) (1.4.4)\n",
      "Requirement already satisfied: numpy>=1.23 in c:\\users\\tavov\\anaconda3\\lib\\site-packages (from matplotlib) (1.26.4)\n",
      "Requirement already satisfied: packaging>=20.0 in c:\\users\\tavov\\anaconda3\\lib\\site-packages (from matplotlib) (24.1)\n",
      "Requirement already satisfied: pillow>=8 in c:\\users\\tavov\\anaconda3\\lib\\site-packages (from matplotlib) (10.4.0)\n",
      "Requirement already satisfied: pyparsing>=2.3.1 in c:\\users\\tavov\\anaconda3\\lib\\site-packages (from matplotlib) (3.1.2)\n",
      "Requirement already satisfied: python-dateutil>=2.7 in c:\\users\\tavov\\anaconda3\\lib\\site-packages (from matplotlib) (2.9.0.post0)\n",
      "Requirement already satisfied: six>=1.5 in c:\\users\\tavov\\anaconda3\\lib\\site-packages (from python-dateutil>=2.7->matplotlib) (1.16.0)\n",
      "Requirement already satisfied: scikit-learn in c:\\users\\tavov\\anaconda3\\lib\\site-packages (1.7.2)\n",
      "Requirement already satisfied: numpy>=1.22.0 in c:\\users\\tavov\\anaconda3\\lib\\site-packages (from scikit-learn) (1.26.4)\n",
      "Requirement already satisfied: scipy>=1.8.0 in c:\\users\\tavov\\anaconda3\\lib\\site-packages (from scikit-learn) (1.13.1)\n",
      "Requirement already satisfied: joblib>=1.2.0 in c:\\users\\tavov\\anaconda3\\lib\\site-packages (from scikit-learn) (1.4.2)\n",
      "Requirement already satisfied: threadpoolctl>=3.1.0 in c:\\users\\tavov\\anaconda3\\lib\\site-packages (from scikit-learn) (3.5.0)\n",
      "Requirement already satisfied: imbalanced-learn in c:\\users\\tavov\\anaconda3\\lib\\site-packages (0.12.3)\n",
      "Requirement already satisfied: numpy>=1.17.3 in c:\\users\\tavov\\anaconda3\\lib\\site-packages (from imbalanced-learn) (1.26.4)\n",
      "Requirement already satisfied: scipy>=1.5.0 in c:\\users\\tavov\\anaconda3\\lib\\site-packages (from imbalanced-learn) (1.13.1)\n",
      "Requirement already satisfied: scikit-learn>=1.0.2 in c:\\users\\tavov\\anaconda3\\lib\\site-packages (from imbalanced-learn) (1.7.2)\n",
      "Requirement already satisfied: joblib>=1.1.1 in c:\\users\\tavov\\anaconda3\\lib\\site-packages (from imbalanced-learn) (1.4.2)\n",
      "Requirement already satisfied: threadpoolctl>=2.0.0 in c:\\users\\tavov\\anaconda3\\lib\\site-packages (from imbalanced-learn) (3.5.0)\n"
     ]
    }
   ],
   "source": [
    "#!pip install eli5\n",
    "#!pip install pandas\n",
    "#!pip install numpy\n",
    "#!pip install seaborn\n",
    "#!pip install yellowbrick\n",
    "#!pip install xgboost\n",
    "#!pip install shap\n",
    "#!pip install matplotlib\n",
    "#!pip install scikit-learn\n",
    "#!pip install imbalanced-learn"
   ]
  },
  {
   "cell_type": "markdown",
   "metadata": {},
   "source": [
    "## Cargar Librerías"
   ]
  },
  {
   "cell_type": "code",
   "execution_count": 3,
   "metadata": {},
   "outputs": [
    {
     "name": "stdout",
     "output_type": "stream",
     "text": [
      "Collecting scikit-learn==1.5.2Note: you may need to restart the kernel to use updated packages.\n",
      "\n",
      "  Using cached scikit_learn-1.5.2-cp312-cp312-win_amd64.whl.metadata (13 kB)\n",
      "Requirement already satisfied: imbalanced-learn==0.12.3 in c:\\users\\tavov\\anaconda3\\lib\\site-packages (0.12.3)\n",
      "Requirement already satisfied: yellowbrick==1.5 in c:\\users\\tavov\\anaconda3\\lib\\site-packages (1.5)\n",
      "Requirement already satisfied: numpy>=1.19.5 in c:\\users\\tavov\\anaconda3\\lib\\site-packages (from scikit-learn==1.5.2) (1.26.4)\n",
      "Requirement already satisfied: scipy>=1.6.0 in c:\\users\\tavov\\anaconda3\\lib\\site-packages (from scikit-learn==1.5.2) (1.13.1)\n",
      "Requirement already satisfied: joblib>=1.2.0 in c:\\users\\tavov\\anaconda3\\lib\\site-packages (from scikit-learn==1.5.2) (1.4.2)\n",
      "Requirement already satisfied: threadpoolctl>=3.1.0 in c:\\users\\tavov\\anaconda3\\lib\\site-packages (from scikit-learn==1.5.2) (3.5.0)\n",
      "Requirement already satisfied: matplotlib!=3.0.0,>=2.0.2 in c:\\users\\tavov\\anaconda3\\lib\\site-packages (from yellowbrick==1.5) (3.9.2)\n",
      "Requirement already satisfied: cycler>=0.10.0 in c:\\users\\tavov\\anaconda3\\lib\\site-packages (from yellowbrick==1.5) (0.11.0)\n",
      "Requirement already satisfied: contourpy>=1.0.1 in c:\\users\\tavov\\anaconda3\\lib\\site-packages (from matplotlib!=3.0.0,>=2.0.2->yellowbrick==1.5) (1.2.0)\n",
      "Requirement already satisfied: fonttools>=4.22.0 in c:\\users\\tavov\\anaconda3\\lib\\site-packages (from matplotlib!=3.0.0,>=2.0.2->yellowbrick==1.5) (4.51.0)\n",
      "Requirement already satisfied: kiwisolver>=1.3.1 in c:\\users\\tavov\\anaconda3\\lib\\site-packages (from matplotlib!=3.0.0,>=2.0.2->yellowbrick==1.5) (1.4.4)\n",
      "Requirement already satisfied: packaging>=20.0 in c:\\users\\tavov\\anaconda3\\lib\\site-packages (from matplotlib!=3.0.0,>=2.0.2->yellowbrick==1.5) (24.1)\n",
      "Requirement already satisfied: pillow>=8 in c:\\users\\tavov\\anaconda3\\lib\\site-packages (from matplotlib!=3.0.0,>=2.0.2->yellowbrick==1.5) (10.4.0)\n",
      "Requirement already satisfied: pyparsing>=2.3.1 in c:\\users\\tavov\\anaconda3\\lib\\site-packages (from matplotlib!=3.0.0,>=2.0.2->yellowbrick==1.5) (3.1.2)\n",
      "Requirement already satisfied: python-dateutil>=2.7 in c:\\users\\tavov\\anaconda3\\lib\\site-packages (from matplotlib!=3.0.0,>=2.0.2->yellowbrick==1.5) (2.9.0.post0)\n",
      "Requirement already satisfied: six>=1.5 in c:\\users\\tavov\\anaconda3\\lib\\site-packages (from python-dateutil>=2.7->matplotlib!=3.0.0,>=2.0.2->yellowbrick==1.5) (1.16.0)\n",
      "Using cached scikit_learn-1.5.2-cp312-cp312-win_amd64.whl (11.0 MB)\n",
      "Installing collected packages: scikit-learn\n",
      "  Attempting uninstall: scikit-learn\n",
      "    Found existing installation: scikit-learn 1.7.2\n",
      "    Uninstalling scikit-learn-1.7.2:\n",
      "      Successfully uninstalled scikit-learn-1.7.2\n",
      "Successfully installed scikit-learn-1.5.2\n"
     ]
    },
    {
     "name": "stderr",
     "output_type": "stream",
     "text": [
      "ERROR: pip's dependency resolver does not currently take into account all the packages that are installed. This behaviour is the source of the following dependency conflicts.\n",
      "eli5 0.16.0 requires scikit-learn>=1.6.0, but you have scikit-learn 1.5.2 which is incompatible.\n"
     ]
    }
   ],
   "source": [
    "%pip install -U scikit-learn==1.5.2 imbalanced-learn==0.12.3 yellowbrick==1.5"
   ]
  },
  {
   "cell_type": "code",
   "execution_count": 4,
   "metadata": {},
   "outputs": [],
   "source": [
    "# ===============================\n",
    "# Núcleo científico / utilidades\n",
    "# ===============================\n",
    "import warnings; warnings.filterwarnings(\"ignore\")\n",
    "import numpy as np\n",
    "import pandas as pd\n",
    "import matplotlib.pyplot as plt\n",
    "\n",
    "# ===============================\n",
    "# Modelado y validación (scikit-learn)\n",
    "# ===============================\n",
    "from sklearn.model_selection import (\n",
    "    train_test_split, StratifiedKFold, RandomizedSearchCV, cross_val_score\n",
    ")\n",
    "from sklearn.metrics import (\n",
    "    accuracy_score, precision_score, recall_score, f1_score,\n",
    "    roc_auc_score, average_precision_score, roc_curve, precision_recall_curve,\n",
    "    confusion_matrix\n",
    ")\n",
    "from sklearn.preprocessing import StandardScaler\n",
    "from sklearn.compose import ColumnTransformer\n",
    "from sklearn.pipeline import Pipeline\n",
    "from sklearn.tree import DecisionTreeClassifier\n",
    "from sklearn.ensemble import BaggingClassifier, RandomForestClassifier\n",
    "\n",
    "# ===============================\n",
    "# Desbalanceo de clases (imbalanced-learn)\n",
    "# ===============================\n",
    "from imblearn.pipeline import Pipeline as ImbPipeline\n",
    "from imblearn.over_sampling import RandomOverSampler\n",
    "from imblearn.under_sampling import RandomUnderSampler\n",
    "\n",
    "# ===============================\n",
    "# Gradient Boosting (XGBoost)\n",
    "# ===============================\n",
    "from xgboost import XGBClassifier\n",
    "\n",
    "# ===============================\n",
    "# Estadística (SciPy y Statsmodels)\n",
    "# ===============================\n",
    "from scipy import stats\n",
    "from scipy.stats import shapiro, normaltest, ttest_ind, mannwhitneyu\n",
    "import statsmodels.api as sm\n",
    "from statsmodels.stats.outliers_influence import variance_inflation_factor  # VIF\n",
    "\n",
    "# ===============================\n",
    "# Otros apoyos\n",
    "# ===============================\n",
    "from collections import Counter\n",
    "\n",
    "# ===============================\n",
    "# Opcionales de interpretación/visual\n",
    "# ===============================\n",
    "import shap\n",
    "from yellowbrick.classifier import ROCAUC, ConfusionMatrix, ClassificationReport\n",
    "import eli5\n",
    "\n",
    "# ===============================\n",
    "# Estilo de gráficos\n",
    "# ===============================\n",
    "plt.style.use(\"ggplot\")\n"
   ]
  },
  {
   "cell_type": "markdown",
   "metadata": {},
   "source": [
    "## Importar Datos"
   ]
  },
  {
   "cell_type": "code",
   "execution_count": null,
   "metadata": {},
   "outputs": [
    {
     "name": "stdout",
     "output_type": "stream",
     "text": [
      "<class 'pandas.core.frame.DataFrame'>\n",
      "RangeIndex: 40000 entries, 0 to 39999\n",
      "Data columns (total 15 columns):\n",
      " #   Column               Non-Null Count  Dtype  \n",
      "---  ------               --------------  -----  \n",
      " 0   ID                   40000 non-null  int64  \n",
      " 1   CLIENTE_MORA         40000 non-null  int64  \n",
      " 2   SEXO                 40000 non-null  object \n",
      " 3   EDAD                 40000 non-null  int64  \n",
      " 4   INGRESO              40000 non-null  float64\n",
      " 5   SCORE_DATACREDITO    40000 non-null  int64  \n",
      " 6   CRED_REESTRUCTURADO  40000 non-null  int64  \n",
      " 7   ANT_SF               40000 non-null  float64\n",
      " 8   SALDO_SF             40000 non-null  float64\n",
      " 9   TIENE_HIPOTECA       40000 non-null  int64  \n",
      " 10  ULTIMAPERTURA        40000 non-null  int64  \n",
      " 11  SALDO_FIJO           40000 non-null  float64\n",
      " 12  SALDO_ROT            40000 non-null  float64\n",
      " 13  ESTADO_MORA_FIN      40000 non-null  float64\n",
      " 14  ESTADO_MORA_REAL     40000 non-null  float64\n",
      "dtypes: float64(7), int64(7), object(1)\n",
      "memory usage: 4.6+ MB\n"
     ]
    }
   ],
   "source": [
    "datos = pd.read_csv('base_modelo_40k.csv', sep=',')\n",
    "datos.info()"
   ]
  },
  {
   "cell_type": "code",
   "execution_count": 6,
   "metadata": {},
   "outputs": [
    {
     "data": {
      "text/html": [
       "<div>\n",
       "<style scoped>\n",
       "    .dataframe tbody tr th:only-of-type {\n",
       "        vertical-align: middle;\n",
       "    }\n",
       "\n",
       "    .dataframe tbody tr th {\n",
       "        vertical-align: top;\n",
       "    }\n",
       "\n",
       "    .dataframe thead th {\n",
       "        text-align: right;\n",
       "    }\n",
       "</style>\n",
       "<table border=\"1\" class=\"dataframe\">\n",
       "  <thead>\n",
       "    <tr style=\"text-align: right;\">\n",
       "      <th></th>\n",
       "      <th>ID</th>\n",
       "      <th>CLIENTE_MORA</th>\n",
       "      <th>SEXO</th>\n",
       "      <th>EDAD</th>\n",
       "      <th>INGRESO</th>\n",
       "      <th>SCORE_DATACREDITO</th>\n",
       "      <th>CRED_REESTRUCTURADO</th>\n",
       "      <th>ANT_SF</th>\n",
       "      <th>SALDO_SF</th>\n",
       "      <th>TIENE_HIPOTECA</th>\n",
       "      <th>ULTIMAPERTURA</th>\n",
       "      <th>SALDO_FIJO</th>\n",
       "      <th>SALDO_ROT</th>\n",
       "      <th>ESTADO_MORA_FIN</th>\n",
       "      <th>ESTADO_MORA_REAL</th>\n",
       "    </tr>\n",
       "  </thead>\n",
       "  <tbody>\n",
       "    <tr>\n",
       "      <th>0</th>\n",
       "      <td>245411</td>\n",
       "      <td>0</td>\n",
       "      <td>F</td>\n",
       "      <td>51</td>\n",
       "      <td>5.373539</td>\n",
       "      <td>675</td>\n",
       "      <td>0</td>\n",
       "      <td>6.83</td>\n",
       "      <td>133.124423</td>\n",
       "      <td>0</td>\n",
       "      <td>35</td>\n",
       "      <td>86.191899</td>\n",
       "      <td>68.093088</td>\n",
       "      <td>0.0</td>\n",
       "      <td>0.0</td>\n",
       "    </tr>\n",
       "    <tr>\n",
       "      <th>1</th>\n",
       "      <td>278521</td>\n",
       "      <td>0</td>\n",
       "      <td>M</td>\n",
       "      <td>32</td>\n",
       "      <td>20.009334</td>\n",
       "      <td>812</td>\n",
       "      <td>0</td>\n",
       "      <td>7.83</td>\n",
       "      <td>282.607212</td>\n",
       "      <td>0</td>\n",
       "      <td>18</td>\n",
       "      <td>68.242921</td>\n",
       "      <td>19.081655</td>\n",
       "      <td>0.0</td>\n",
       "      <td>0.0</td>\n",
       "    </tr>\n",
       "    <tr>\n",
       "      <th>2</th>\n",
       "      <td>58481</td>\n",
       "      <td>0</td>\n",
       "      <td>M</td>\n",
       "      <td>58</td>\n",
       "      <td>5.537541</td>\n",
       "      <td>812</td>\n",
       "      <td>0</td>\n",
       "      <td>6.17</td>\n",
       "      <td>10.650218</td>\n",
       "      <td>0</td>\n",
       "      <td>3</td>\n",
       "      <td>26.764786</td>\n",
       "      <td>44.264709</td>\n",
       "      <td>0.0</td>\n",
       "      <td>0.0</td>\n",
       "    </tr>\n",
       "    <tr>\n",
       "      <th>3</th>\n",
       "      <td>183771</td>\n",
       "      <td>0</td>\n",
       "      <td>F</td>\n",
       "      <td>40</td>\n",
       "      <td>5.838028</td>\n",
       "      <td>840</td>\n",
       "      <td>0</td>\n",
       "      <td>7.00</td>\n",
       "      <td>87.428428</td>\n",
       "      <td>1</td>\n",
       "      <td>7</td>\n",
       "      <td>32.291321</td>\n",
       "      <td>29.558226</td>\n",
       "      <td>0.0</td>\n",
       "      <td>0.0</td>\n",
       "    </tr>\n",
       "    <tr>\n",
       "      <th>4</th>\n",
       "      <td>310611</td>\n",
       "      <td>0</td>\n",
       "      <td>M</td>\n",
       "      <td>63</td>\n",
       "      <td>2.192562</td>\n",
       "      <td>625</td>\n",
       "      <td>0</td>\n",
       "      <td>0.00</td>\n",
       "      <td>0.000000</td>\n",
       "      <td>0</td>\n",
       "      <td>-1</td>\n",
       "      <td>0.000000</td>\n",
       "      <td>0.000000</td>\n",
       "      <td>0.0</td>\n",
       "      <td>0.0</td>\n",
       "    </tr>\n",
       "    <tr>\n",
       "      <th>...</th>\n",
       "      <td>...</td>\n",
       "      <td>...</td>\n",
       "      <td>...</td>\n",
       "      <td>...</td>\n",
       "      <td>...</td>\n",
       "      <td>...</td>\n",
       "      <td>...</td>\n",
       "      <td>...</td>\n",
       "      <td>...</td>\n",
       "      <td>...</td>\n",
       "      <td>...</td>\n",
       "      <td>...</td>\n",
       "      <td>...</td>\n",
       "      <td>...</td>\n",
       "      <td>...</td>\n",
       "    </tr>\n",
       "    <tr>\n",
       "      <th>39995</th>\n",
       "      <td>11301</td>\n",
       "      <td>0</td>\n",
       "      <td>F</td>\n",
       "      <td>60</td>\n",
       "      <td>5.855639</td>\n",
       "      <td>753</td>\n",
       "      <td>0</td>\n",
       "      <td>7.75</td>\n",
       "      <td>46.270552</td>\n",
       "      <td>0</td>\n",
       "      <td>5</td>\n",
       "      <td>91.765247</td>\n",
       "      <td>58.386919</td>\n",
       "      <td>0.0</td>\n",
       "      <td>0.0</td>\n",
       "    </tr>\n",
       "    <tr>\n",
       "      <th>39996</th>\n",
       "      <td>302581</td>\n",
       "      <td>0</td>\n",
       "      <td>F</td>\n",
       "      <td>57</td>\n",
       "      <td>2.975149</td>\n",
       "      <td>725</td>\n",
       "      <td>0</td>\n",
       "      <td>6.08</td>\n",
       "      <td>6.774709</td>\n",
       "      <td>0</td>\n",
       "      <td>56</td>\n",
       "      <td>73.974337</td>\n",
       "      <td>68.846599</td>\n",
       "      <td>0.0</td>\n",
       "      <td>0.0</td>\n",
       "    </tr>\n",
       "    <tr>\n",
       "      <th>39997</th>\n",
       "      <td>328851</td>\n",
       "      <td>0</td>\n",
       "      <td>M</td>\n",
       "      <td>38</td>\n",
       "      <td>3.473759</td>\n",
       "      <td>753</td>\n",
       "      <td>0</td>\n",
       "      <td>12.00</td>\n",
       "      <td>3.549705</td>\n",
       "      <td>0</td>\n",
       "      <td>27</td>\n",
       "      <td>51.626281</td>\n",
       "      <td>21.191923</td>\n",
       "      <td>0.0</td>\n",
       "      <td>0.0</td>\n",
       "    </tr>\n",
       "    <tr>\n",
       "      <th>39998</th>\n",
       "      <td>143341</td>\n",
       "      <td>1</td>\n",
       "      <td>M</td>\n",
       "      <td>54</td>\n",
       "      <td>7.497859</td>\n",
       "      <td>625</td>\n",
       "      <td>0</td>\n",
       "      <td>22.00</td>\n",
       "      <td>52.590679</td>\n",
       "      <td>0</td>\n",
       "      <td>9</td>\n",
       "      <td>73.950412</td>\n",
       "      <td>79.353979</td>\n",
       "      <td>0.0</td>\n",
       "      <td>0.0</td>\n",
       "    </tr>\n",
       "    <tr>\n",
       "      <th>39999</th>\n",
       "      <td>394981</td>\n",
       "      <td>0</td>\n",
       "      <td>M</td>\n",
       "      <td>56</td>\n",
       "      <td>23.148484</td>\n",
       "      <td>862</td>\n",
       "      <td>0</td>\n",
       "      <td>9.42</td>\n",
       "      <td>281.634207</td>\n",
       "      <td>0</td>\n",
       "      <td>7</td>\n",
       "      <td>56.939315</td>\n",
       "      <td>20.071860</td>\n",
       "      <td>0.0</td>\n",
       "      <td>0.0</td>\n",
       "    </tr>\n",
       "  </tbody>\n",
       "</table>\n",
       "<p>40000 rows × 15 columns</p>\n",
       "</div>"
      ],
      "text/plain": [
       "           ID  CLIENTE_MORA SEXO  EDAD    INGRESO  SCORE_DATACREDITO  \\\n",
       "0      245411             0    F    51   5.373539                675   \n",
       "1      278521             0    M    32  20.009334                812   \n",
       "2       58481             0    M    58   5.537541                812   \n",
       "3      183771             0    F    40   5.838028                840   \n",
       "4      310611             0    M    63   2.192562                625   \n",
       "...       ...           ...  ...   ...        ...                ...   \n",
       "39995   11301             0    F    60   5.855639                753   \n",
       "39996  302581             0    F    57   2.975149                725   \n",
       "39997  328851             0    M    38   3.473759                753   \n",
       "39998  143341             1    M    54   7.497859                625   \n",
       "39999  394981             0    M    56  23.148484                862   \n",
       "\n",
       "       CRED_REESTRUCTURADO  ANT_SF    SALDO_SF  TIENE_HIPOTECA  ULTIMAPERTURA  \\\n",
       "0                        0    6.83  133.124423               0             35   \n",
       "1                        0    7.83  282.607212               0             18   \n",
       "2                        0    6.17   10.650218               0              3   \n",
       "3                        0    7.00   87.428428               1              7   \n",
       "4                        0    0.00    0.000000               0             -1   \n",
       "...                    ...     ...         ...             ...            ...   \n",
       "39995                    0    7.75   46.270552               0              5   \n",
       "39996                    0    6.08    6.774709               0             56   \n",
       "39997                    0   12.00    3.549705               0             27   \n",
       "39998                    0   22.00   52.590679               0              9   \n",
       "39999                    0    9.42  281.634207               0              7   \n",
       "\n",
       "       SALDO_FIJO  SALDO_ROT  ESTADO_MORA_FIN  ESTADO_MORA_REAL  \n",
       "0       86.191899  68.093088              0.0               0.0  \n",
       "1       68.242921  19.081655              0.0               0.0  \n",
       "2       26.764786  44.264709              0.0               0.0  \n",
       "3       32.291321  29.558226              0.0               0.0  \n",
       "4        0.000000   0.000000              0.0               0.0  \n",
       "...           ...        ...              ...               ...  \n",
       "39995   91.765247  58.386919              0.0               0.0  \n",
       "39996   73.974337  68.846599              0.0               0.0  \n",
       "39997   51.626281  21.191923              0.0               0.0  \n",
       "39998   73.950412  79.353979              0.0               0.0  \n",
       "39999   56.939315  20.071860              0.0               0.0  \n",
       "\n",
       "[40000 rows x 15 columns]"
      ]
     },
     "execution_count": 6,
     "metadata": {},
     "output_type": "execute_result"
    }
   ],
   "source": [
    "datos"
   ]
  },
  {
   "cell_type": "code",
   "execution_count": 7,
   "metadata": {},
   "outputs": [
    {
     "name": "stdout",
     "output_type": "stream",
     "text": [
      "(40000, 15)\n"
     ]
    }
   ],
   "source": [
    "print(datos.shape)"
   ]
  },
  {
   "cell_type": "markdown",
   "metadata": {},
   "source": [
    "* Inicialmente se contemplaron 40 variables en estudio, mixtas entre categóricas y numéricas"
   ]
  },
  {
   "cell_type": "markdown",
   "metadata": {},
   "source": [
    "## Limpieza y Armonización"
   ]
  },
  {
   "cell_type": "code",
   "execution_count": 8,
   "metadata": {},
   "outputs": [],
   "source": [
    "### CONVERSIÓN TIPOS DE FORMATO\n",
    "datos['CRED_REESTRUCTURADO']=datos['CRED_REESTRUCTURADO'].astype('object')\n",
    "datos['TIENE_HIPOTECA']=datos['TIENE_HIPOTECA'].astype('object')"
   ]
  },
  {
   "cell_type": "code",
   "execution_count": 9,
   "metadata": {},
   "outputs": [
    {
     "data": {
      "text/plain": [
       "ID                     0\n",
       "CLIENTE_MORA           0\n",
       "SEXO                   0\n",
       "EDAD                   0\n",
       "INGRESO                0\n",
       "SCORE_DATACREDITO      0\n",
       "CRED_REESTRUCTURADO    0\n",
       "ANT_SF                 0\n",
       "SALDO_SF               0\n",
       "TIENE_HIPOTECA         0\n",
       "ULTIMAPERTURA          0\n",
       "SALDO_FIJO             0\n",
       "SALDO_ROT              0\n",
       "ESTADO_MORA_FIN        0\n",
       "ESTADO_MORA_REAL       0\n",
       "dtype: int64"
      ]
     },
     "execution_count": 9,
     "metadata": {},
     "output_type": "execute_result"
    }
   ],
   "source": [
    "### Conteo valores nulos\n",
    "datos.isnull().sum()"
   ]
  },
  {
   "cell_type": "markdown",
   "metadata": {},
   "source": [
    "* Por criterio experto, se consideran no necesarias las variables asociadas a la identificación del cliente, como el tipo de Id, el número de identificación y la fecha de evaluación; también se elimina la variable \"Acierta_plus\" ya que existe la variable \"Advance\"."
   ]
  },
  {
   "cell_type": "code",
   "execution_count": 10,
   "metadata": {},
   "outputs": [
    {
     "data": {
      "text/html": [
       "<div>\n",
       "<style scoped>\n",
       "    .dataframe tbody tr th:only-of-type {\n",
       "        vertical-align: middle;\n",
       "    }\n",
       "\n",
       "    .dataframe tbody tr th {\n",
       "        vertical-align: top;\n",
       "    }\n",
       "\n",
       "    .dataframe thead th {\n",
       "        text-align: right;\n",
       "    }\n",
       "</style>\n",
       "<table border=\"1\" class=\"dataframe\">\n",
       "  <thead>\n",
       "    <tr style=\"text-align: right;\">\n",
       "      <th></th>\n",
       "      <th>CLIENTE_MORA</th>\n",
       "      <th>SEXO</th>\n",
       "      <th>EDAD</th>\n",
       "      <th>INGRESO</th>\n",
       "      <th>SCORE_DATACREDITO</th>\n",
       "      <th>CRED_REESTRUCTURADO</th>\n",
       "      <th>ANT_SF</th>\n",
       "      <th>SALDO_SF</th>\n",
       "      <th>TIENE_HIPOTECA</th>\n",
       "      <th>ULTIMAPERTURA</th>\n",
       "      <th>SALDO_FIJO</th>\n",
       "      <th>SALDO_ROT</th>\n",
       "      <th>ESTADO_MORA_FIN</th>\n",
       "      <th>ESTADO_MORA_REAL</th>\n",
       "    </tr>\n",
       "  </thead>\n",
       "  <tbody>\n",
       "    <tr>\n",
       "      <th>0</th>\n",
       "      <td>0</td>\n",
       "      <td>F</td>\n",
       "      <td>51</td>\n",
       "      <td>5.373539</td>\n",
       "      <td>675</td>\n",
       "      <td>0</td>\n",
       "      <td>6.83</td>\n",
       "      <td>133.124423</td>\n",
       "      <td>0</td>\n",
       "      <td>35</td>\n",
       "      <td>86.191899</td>\n",
       "      <td>68.093088</td>\n",
       "      <td>0.0</td>\n",
       "      <td>0.0</td>\n",
       "    </tr>\n",
       "    <tr>\n",
       "      <th>1</th>\n",
       "      <td>0</td>\n",
       "      <td>M</td>\n",
       "      <td>32</td>\n",
       "      <td>20.009334</td>\n",
       "      <td>812</td>\n",
       "      <td>0</td>\n",
       "      <td>7.83</td>\n",
       "      <td>282.607212</td>\n",
       "      <td>0</td>\n",
       "      <td>18</td>\n",
       "      <td>68.242921</td>\n",
       "      <td>19.081655</td>\n",
       "      <td>0.0</td>\n",
       "      <td>0.0</td>\n",
       "    </tr>\n",
       "    <tr>\n",
       "      <th>2</th>\n",
       "      <td>0</td>\n",
       "      <td>M</td>\n",
       "      <td>58</td>\n",
       "      <td>5.537541</td>\n",
       "      <td>812</td>\n",
       "      <td>0</td>\n",
       "      <td>6.17</td>\n",
       "      <td>10.650218</td>\n",
       "      <td>0</td>\n",
       "      <td>3</td>\n",
       "      <td>26.764786</td>\n",
       "      <td>44.264709</td>\n",
       "      <td>0.0</td>\n",
       "      <td>0.0</td>\n",
       "    </tr>\n",
       "    <tr>\n",
       "      <th>3</th>\n",
       "      <td>0</td>\n",
       "      <td>F</td>\n",
       "      <td>40</td>\n",
       "      <td>5.838028</td>\n",
       "      <td>840</td>\n",
       "      <td>0</td>\n",
       "      <td>7.00</td>\n",
       "      <td>87.428428</td>\n",
       "      <td>1</td>\n",
       "      <td>7</td>\n",
       "      <td>32.291321</td>\n",
       "      <td>29.558226</td>\n",
       "      <td>0.0</td>\n",
       "      <td>0.0</td>\n",
       "    </tr>\n",
       "    <tr>\n",
       "      <th>4</th>\n",
       "      <td>0</td>\n",
       "      <td>M</td>\n",
       "      <td>63</td>\n",
       "      <td>2.192562</td>\n",
       "      <td>625</td>\n",
       "      <td>0</td>\n",
       "      <td>0.00</td>\n",
       "      <td>0.000000</td>\n",
       "      <td>0</td>\n",
       "      <td>-1</td>\n",
       "      <td>0.000000</td>\n",
       "      <td>0.000000</td>\n",
       "      <td>0.0</td>\n",
       "      <td>0.0</td>\n",
       "    </tr>\n",
       "    <tr>\n",
       "      <th>...</th>\n",
       "      <td>...</td>\n",
       "      <td>...</td>\n",
       "      <td>...</td>\n",
       "      <td>...</td>\n",
       "      <td>...</td>\n",
       "      <td>...</td>\n",
       "      <td>...</td>\n",
       "      <td>...</td>\n",
       "      <td>...</td>\n",
       "      <td>...</td>\n",
       "      <td>...</td>\n",
       "      <td>...</td>\n",
       "      <td>...</td>\n",
       "      <td>...</td>\n",
       "    </tr>\n",
       "    <tr>\n",
       "      <th>39995</th>\n",
       "      <td>0</td>\n",
       "      <td>F</td>\n",
       "      <td>60</td>\n",
       "      <td>5.855639</td>\n",
       "      <td>753</td>\n",
       "      <td>0</td>\n",
       "      <td>7.75</td>\n",
       "      <td>46.270552</td>\n",
       "      <td>0</td>\n",
       "      <td>5</td>\n",
       "      <td>91.765247</td>\n",
       "      <td>58.386919</td>\n",
       "      <td>0.0</td>\n",
       "      <td>0.0</td>\n",
       "    </tr>\n",
       "    <tr>\n",
       "      <th>39996</th>\n",
       "      <td>0</td>\n",
       "      <td>F</td>\n",
       "      <td>57</td>\n",
       "      <td>2.975149</td>\n",
       "      <td>725</td>\n",
       "      <td>0</td>\n",
       "      <td>6.08</td>\n",
       "      <td>6.774709</td>\n",
       "      <td>0</td>\n",
       "      <td>56</td>\n",
       "      <td>73.974337</td>\n",
       "      <td>68.846599</td>\n",
       "      <td>0.0</td>\n",
       "      <td>0.0</td>\n",
       "    </tr>\n",
       "    <tr>\n",
       "      <th>39997</th>\n",
       "      <td>0</td>\n",
       "      <td>M</td>\n",
       "      <td>38</td>\n",
       "      <td>3.473759</td>\n",
       "      <td>753</td>\n",
       "      <td>0</td>\n",
       "      <td>12.00</td>\n",
       "      <td>3.549705</td>\n",
       "      <td>0</td>\n",
       "      <td>27</td>\n",
       "      <td>51.626281</td>\n",
       "      <td>21.191923</td>\n",
       "      <td>0.0</td>\n",
       "      <td>0.0</td>\n",
       "    </tr>\n",
       "    <tr>\n",
       "      <th>39998</th>\n",
       "      <td>1</td>\n",
       "      <td>M</td>\n",
       "      <td>54</td>\n",
       "      <td>7.497859</td>\n",
       "      <td>625</td>\n",
       "      <td>0</td>\n",
       "      <td>22.00</td>\n",
       "      <td>52.590679</td>\n",
       "      <td>0</td>\n",
       "      <td>9</td>\n",
       "      <td>73.950412</td>\n",
       "      <td>79.353979</td>\n",
       "      <td>0.0</td>\n",
       "      <td>0.0</td>\n",
       "    </tr>\n",
       "    <tr>\n",
       "      <th>39999</th>\n",
       "      <td>0</td>\n",
       "      <td>M</td>\n",
       "      <td>56</td>\n",
       "      <td>23.148484</td>\n",
       "      <td>862</td>\n",
       "      <td>0</td>\n",
       "      <td>9.42</td>\n",
       "      <td>281.634207</td>\n",
       "      <td>0</td>\n",
       "      <td>7</td>\n",
       "      <td>56.939315</td>\n",
       "      <td>20.071860</td>\n",
       "      <td>0.0</td>\n",
       "      <td>0.0</td>\n",
       "    </tr>\n",
       "  </tbody>\n",
       "</table>\n",
       "<p>40000 rows × 14 columns</p>\n",
       "</div>"
      ],
      "text/plain": [
       "       CLIENTE_MORA SEXO  EDAD    INGRESO  SCORE_DATACREDITO  \\\n",
       "0                 0    F    51   5.373539                675   \n",
       "1                 0    M    32  20.009334                812   \n",
       "2                 0    M    58   5.537541                812   \n",
       "3                 0    F    40   5.838028                840   \n",
       "4                 0    M    63   2.192562                625   \n",
       "...             ...  ...   ...        ...                ...   \n",
       "39995             0    F    60   5.855639                753   \n",
       "39996             0    F    57   2.975149                725   \n",
       "39997             0    M    38   3.473759                753   \n",
       "39998             1    M    54   7.497859                625   \n",
       "39999             0    M    56  23.148484                862   \n",
       "\n",
       "      CRED_REESTRUCTURADO  ANT_SF    SALDO_SF TIENE_HIPOTECA  ULTIMAPERTURA  \\\n",
       "0                       0    6.83  133.124423              0             35   \n",
       "1                       0    7.83  282.607212              0             18   \n",
       "2                       0    6.17   10.650218              0              3   \n",
       "3                       0    7.00   87.428428              1              7   \n",
       "4                       0    0.00    0.000000              0             -1   \n",
       "...                   ...     ...         ...            ...            ...   \n",
       "39995                   0    7.75   46.270552              0              5   \n",
       "39996                   0    6.08    6.774709              0             56   \n",
       "39997                   0   12.00    3.549705              0             27   \n",
       "39998                   0   22.00   52.590679              0              9   \n",
       "39999                   0    9.42  281.634207              0              7   \n",
       "\n",
       "       SALDO_FIJO  SALDO_ROT  ESTADO_MORA_FIN  ESTADO_MORA_REAL  \n",
       "0       86.191899  68.093088              0.0               0.0  \n",
       "1       68.242921  19.081655              0.0               0.0  \n",
       "2       26.764786  44.264709              0.0               0.0  \n",
       "3       32.291321  29.558226              0.0               0.0  \n",
       "4        0.000000   0.000000              0.0               0.0  \n",
       "...           ...        ...              ...               ...  \n",
       "39995   91.765247  58.386919              0.0               0.0  \n",
       "39996   73.974337  68.846599              0.0               0.0  \n",
       "39997   51.626281  21.191923              0.0               0.0  \n",
       "39998   73.950412  79.353979              0.0               0.0  \n",
       "39999   56.939315  20.071860              0.0               0.0  \n",
       "\n",
       "[40000 rows x 14 columns]"
      ]
     },
     "execution_count": 10,
     "metadata": {},
     "output_type": "execute_result"
    }
   ],
   "source": [
    "#ELIMINAR COLUMNAS NO NECESARIAS\n",
    "datos=datos.drop(labels='ID',axis=1)\n",
    "datos"
   ]
  },
  {
   "cell_type": "code",
   "execution_count": 11,
   "metadata": {},
   "outputs": [
    {
     "name": "stdout",
     "output_type": "stream",
     "text": [
      "(40000, 14)\n"
     ]
    }
   ],
   "source": [
    "### Dimensión base de datos\n",
    "print(datos.shape)"
   ]
  },
  {
   "cell_type": "markdown",
   "metadata": {},
   "source": [
    "## Análisis Exploratorio"
   ]
  },
  {
   "cell_type": "markdown",
   "metadata": {},
   "source": [
    "* La Variable de interés es la variable llamada VAR_DEP, que es 1 si el cliente tuvo una mora mayor a 90 días en los doce meses siguientes al desembolso del credito y 0 si ha estado al día."
   ]
  },
  {
   "cell_type": "code",
   "execution_count": 12,
   "metadata": {},
   "outputs": [
    {
     "data": {
      "text/plain": [
       "CLIENTE_MORA\n",
       "0    92.1375\n",
       "1     7.8625\n",
       "dtype: float64"
      ]
     },
     "execution_count": 12,
     "metadata": {},
     "output_type": "execute_result"
    }
   ],
   "source": [
    "### Proporción de clientes en Mora\n",
    "datos.groupby('CLIENTE_MORA').size()/datos['CLIENTE_MORA'].count()*100"
   ]
  },
  {
   "cell_type": "markdown",
   "metadata": {},
   "source": [
    "* La base con 54.759 clientes, contiene un 7.08% de clientes en mora y un 92.92% de clientes al día"
   ]
  },
  {
   "cell_type": "code",
   "execution_count": 13,
   "metadata": {},
   "outputs": [
    {
     "data": {
      "text/plain": [
       "Text(0.5, 1.0, 'Score Datacredito Clientes al día y en mora')"
      ]
     },
     "execution_count": 13,
     "metadata": {},
     "output_type": "execute_result"
    },
    {
     "data": {
      "image/png": "[encoded data removed]",
      "text/plain": [
       "<Figure size 800x550 with 1 Axes>"
      ]
     },
     "metadata": {},
     "output_type": "display_data"
    }
   ],
   "source": [
    "#Separación de Bases\n",
    "datos_0 = datos[datos['CLIENTE_MORA'] == 0]\n",
    "datos_1 = datos[datos['CLIENTE_MORA'] == 1]\n",
    "\n",
    "#Función de densidad \n",
    "datos_0.SCORE_DATACREDITO.plot.density(color='green',label='Clientes Al día') \n",
    "datos_1.SCORE_DATACREDITO.plot.density(color='red',label='Clientes en Mora')\n",
    "plt.legend()\n",
    "plt.xlabel(\"Score Datacredito\")\n",
    "plt.ylabel('Probabilidad numérica')\n",
    "plt.title('Score Datacredito Clientes al día y en mora')"
   ]
  },
  {
   "cell_type": "markdown",
   "metadata": {},
   "source": [
    "* Se evidencia que los clientes que han tenido una mora de 90 días o más en los 12 ultimos meses tienen un Score Advance (cálculo por datacredito) menor a los clientes que han estado al día. También se resalta que, la mayoría de clientes en mora tienen un Score Advance entre 500 a 850, en cambio los clientes que han estado al día tienen un score adnvance entre 650 a 950."
   ]
  },
  {
   "cell_type": "markdown",
   "metadata": {},
   "source": [
    "### Pruebas estadísticas"
   ]
  },
  {
   "cell_type": "code",
   "execution_count": 14,
   "metadata": {},
   "outputs": [
    {
     "name": "stdout",
     "output_type": "stream",
     "text": [
      "Prueba Shapiro-Wilk Población al día: ShapiroResult(statistic=0.9604629152610893, pvalue=3.497891665963961e-69)\n",
      "Prueba Shapiro-Wilk Población en mora: ShapiroResult(statistic=0.9901863098442275, pvalue=6.594495942150208e-14)\n"
     ]
    }
   ],
   "source": [
    "# Test de normalidad Shapiro-Wilk\n",
    "print(\"Prueba Shapiro-Wilk Población al día:\",shapiro(datos_0['SCORE_DATACREDITO']))\n",
    "print(\"Prueba Shapiro-Wilk Población en mora:\",shapiro(datos_1['SCORE_DATACREDITO']))"
   ]
  },
  {
   "cell_type": "code",
   "execution_count": 15,
   "metadata": {},
   "outputs": [
    {
     "name": "stdout",
     "output_type": "stream",
     "text": [
      "Statistic=51.261, p=0.000\n"
     ]
    }
   ],
   "source": [
    "# Diferencia de medias\n",
    "def dif_medias (df1, df2, alfa):\n",
    "    stat, p = ttest_ind(df1,df2, equal_var = False)\n",
    "    print(\"Statistic=%.3f, p=%.3f\" % (stat,p))\n",
    "\n",
    "dif_medias (datos_0['SCORE_DATACREDITO'], datos_1['SCORE_DATACREDITO'], 0.05)"
   ]
  },
  {
   "cell_type": "code",
   "execution_count": 16,
   "metadata": {},
   "outputs": [
    {
     "name": "stdout",
     "output_type": "stream",
     "text": [
      "Mann-Whitney U Test\n",
      "Estadístico U = 88669802.000, p-valor = 0.000e+00\n",
      "👉 Se rechaza H0: Las distribuciones de ADVANCE en los dos grupos son diferentes.\n"
     ]
    }
   ],
   "source": [
    "# Prueba no parametrcia Mann-Whitney para comparar la variable ADVANCE en los dos grupos\n",
    "stat, p = mannwhitneyu(datos_0['SCORE_DATACREDITO'], datos_1['SCORE_DATACREDITO'], alternative='two-sided')\n",
    "\n",
    "print(\"Mann-Whitney U Test\")\n",
    "print(f\"Estadístico U = {stat:.3f}, p-valor = {p:.3e}\")\n",
    "\n",
    "# Interpretación rápida\n",
    "alpha = 0.05\n",
    "if p < alpha:\n",
    "    print(\"👉 Se rechaza H0: Las distribuciones de ADVANCE en los dos grupos son diferentes.\")\n",
    "else:\n",
    "    print(\"👉 No se rechaza H0: No hay evidencia de diferencia significativa entre los grupos.\")"
   ]
  },
  {
   "cell_type": "markdown",
   "metadata": {},
   "source": [
    "* Existe evidencia estadísticamente significativa para afirmar que las medias de la variable ADVANCE en los dos grupos comparados (datos_0 y datos_1) son diferentes."
   ]
  },
  {
   "cell_type": "code",
   "execution_count": 17,
   "metadata": {},
   "outputs": [
    {
     "data": {
      "text/plain": [
       "Text(0.5, 1.0, 'Antigüedad Financiera de Clientes al día y en mora')"
      ]
     },
     "execution_count": 17,
     "metadata": {},
     "output_type": "execute_result"
    },
    {
     "data": {
      "image/png": "[encoded data removed]",
      "text/plain": [
       "<Figure size 800x550 with 1 Axes>"
      ]
     },
     "metadata": {},
     "output_type": "display_data"
    }
   ],
   "source": [
    "datos_0.ANT_SF.plot.density(color='green',label='Clientes Al día') \n",
    "datos_1.ANT_SF.plot.density(color='red',label='Clientes en Mora')\n",
    "plt.legend()\n",
    "plt.xlabel(\"Antigüedad Financiera\")\n",
    "plt.ylabel('Probabilidad numérica')\n",
    "plt.title('Antigüedad Financiera de Clientes al día y en mora')"
   ]
  },
  {
   "cell_type": "markdown",
   "metadata": {},
   "source": [
    "* Se evidencia como lo clientes que estan al día tienden  a tener mayor antiguedad en el sector financiero a comparación de los cliente en mora."
   ]
  },
  {
   "cell_type": "code",
   "execution_count": 18,
   "metadata": {},
   "outputs": [
    {
     "data": {
      "text/plain": [
       "KstestResult(statistic=0.11398107868696111, pvalue=2.9720346467054946e-33, statistic_location=4.83, statistic_sign=-1)"
      ]
     },
     "execution_count": 18,
     "metadata": {},
     "output_type": "execute_result"
    }
   ],
   "source": [
    "# prueba K-S\n",
    "stats.ks_2samp(datos_0['ANT_SF'], datos_1['ANT_SF'])"
   ]
  },
  {
   "cell_type": "markdown",
   "metadata": {},
   "source": [
    "👉 Los clientes al día tienden a tener una mayor antigüedad en el sistema financiero que los clientes en mora."
   ]
  },
  {
   "cell_type": "code",
   "execution_count": 19,
   "metadata": {},
   "outputs": [
    {
     "data": {
      "text/plain": [
       "Text(0.5, 1.0, 'Edad Clientes al día y en mora')"
      ]
     },
     "execution_count": 19,
     "metadata": {},
     "output_type": "execute_result"
    },
    {
     "data": {
      "image/png": "[encoded data removed]",
      "text/plain": [
       "<Figure size 800x550 with 1 Axes>"
      ]
     },
     "metadata": {},
     "output_type": "display_data"
    }
   ],
   "source": [
    "datos_0.EDAD.plot.density(color='green',label='Clientes Al día') \n",
    "datos_1.EDAD.plot.density(color='red',label='Clientes en Mora')\n",
    "plt.legend()\n",
    "plt.xlabel(\"Edad\")\n",
    "plt.ylabel('Probabilidad numérica')\n",
    "plt.title('Edad Clientes al día y en mora')"
   ]
  },
  {
   "cell_type": "markdown",
   "metadata": {},
   "source": [
    "* Los clientes en mora tienden a concentrarse en edades entre los 30 a los 40 años, en cambio los clientes al día tienden a ser de mayor edad."
   ]
  },
  {
   "cell_type": "code",
   "execution_count": 20,
   "metadata": {},
   "outputs": [
    {
     "data": {
      "text/html": [
       "<div>\n",
       "<style scoped>\n",
       "    .dataframe tbody tr th:only-of-type {\n",
       "        vertical-align: middle;\n",
       "    }\n",
       "\n",
       "    .dataframe tbody tr th {\n",
       "        vertical-align: top;\n",
       "    }\n",
       "\n",
       "    .dataframe thead th {\n",
       "        text-align: right;\n",
       "    }\n",
       "</style>\n",
       "<table border=\"1\" class=\"dataframe\">\n",
       "  <thead>\n",
       "    <tr style=\"text-align: right;\">\n",
       "      <th>CLIENTE_MORA</th>\n",
       "      <th>0</th>\n",
       "      <th>1</th>\n",
       "    </tr>\n",
       "    <tr>\n",
       "      <th>SEXO</th>\n",
       "      <th></th>\n",
       "      <th></th>\n",
       "    </tr>\n",
       "  </thead>\n",
       "  <tbody>\n",
       "    <tr>\n",
       "      <th>F</th>\n",
       "      <td>92.618683</td>\n",
       "      <td>7.381317</td>\n",
       "    </tr>\n",
       "    <tr>\n",
       "      <th>M</th>\n",
       "      <td>91.675649</td>\n",
       "      <td>8.324351</td>\n",
       "    </tr>\n",
       "  </tbody>\n",
       "</table>\n",
       "</div>"
      ],
      "text/plain": [
       "CLIENTE_MORA          0         1\n",
       "SEXO                             \n",
       "F             92.618683  7.381317\n",
       "M             91.675649  8.324351"
      ]
     },
     "execution_count": 20,
     "metadata": {},
     "output_type": "execute_result"
    }
   ],
   "source": [
    "pd.crosstab(datos['SEXO'], datos['CLIENTE_MORA'], normalize='index')*100"
   ]
  },
  {
   "cell_type": "markdown",
   "metadata": {},
   "source": [
    "* Se evidencia que las mujeres pagan mejor que los hombres, dado que el porcentaje de incumplimiento de las mujeres es 6.7% en cambio de los hombres es de 7.5%."
   ]
  },
  {
   "cell_type": "code",
   "execution_count": 21,
   "metadata": {},
   "outputs": [
    {
     "data": {
      "text/plain": [
       "Text(0.5, 1.0, 'Ingresos de Clientes al día y en mora')"
      ]
     },
     "execution_count": 21,
     "metadata": {},
     "output_type": "execute_result"
    },
    {
     "data": {
      "image/png": "[encoded data removed]",
      "text/plain": [
       "<Figure size 800x550 with 1 Axes>"
      ]
     },
     "metadata": {},
     "output_type": "display_data"
    }
   ],
   "source": [
    "datos_0.INGRESO.plot.density(color='green',label='Clientes Al día') \n",
    "datos_1.INGRESO.plot.density(color='red',label='Clientes en Mora')\n",
    "plt.legend()\n",
    "plt.xlabel(\"Ingresos\")\n",
    "plt.ylabel('Probabilidad numérica')\n",
    "plt.title('Ingresos de Clientes al día y en mora')"
   ]
  },
  {
   "cell_type": "markdown",
   "metadata": {},
   "source": [
    "* Se evidencia que no existen diferencias de ingreso respecto al incumplimiento de pago de los clientes."
   ]
  },
  {
   "cell_type": "code",
   "execution_count": 22,
   "metadata": {
    "scrolled": true
   },
   "outputs": [
    {
     "data": {
      "text/plain": [
       "Text(0.5, 1.0, 'Ingresos de Clientes al día y en mora')"
      ]
     },
     "execution_count": 22,
     "metadata": {},
     "output_type": "execute_result"
    },
    {
     "data": {
      "image/png": "[encoded data removed]",
      "text/plain": [
       "<Figure size 800x550 with 1 Axes>"
      ]
     },
     "metadata": {},
     "output_type": "display_data"
    }
   ],
   "source": [
    "datos_0.INGRESO.plot.density(color='green',label='Clientes Al día') \n",
    "datos_1.INGRESO.plot.density(color='red',label='Clientes en Mora')\n",
    "plt.legend()\n",
    "plt.xlabel(\"Ingresos\")\n",
    "plt.ylabel('Probabilidad numérica')\n",
    "plt.title('Ingresos de Clientes al día y en mora')"
   ]
  },
  {
   "cell_type": "markdown",
   "metadata": {},
   "source": [
    "### Correlación"
   ]
  },
  {
   "cell_type": "code",
   "execution_count": 23,
   "metadata": {},
   "outputs": [
    {
     "data": {
      "text/html": [
       "<style type=\"text/css\">\n",
       "#T_40406 th.col_heading {\n",
       "  writing-mode: vertical-rl;\n",
       "  text-orientation: mixed;\n",
       "  width: 24px;\n",
       "  min-width: 24px;\n",
       "  max-width: 24px;\n",
       "  height: 140px;\n",
       "  white-space: nowrap;\n",
       "  overflow: hidden;\n",
       "  text-overflow: clip;\n",
       "  font-size: 7pt;\n",
       "  padding: 6px 2px;\n",
       "}\n",
       "#T_40406 th.row_heading {\n",
       "  font-size: 7pt;\n",
       "  white-space: nowrap;\n",
       "}\n",
       "#T_40406_row0_col0, #T_40406_row1_col1, #T_40406_row2_col2, #T_40406_row3_col3, #T_40406_row4_col4, #T_40406_row5_col5, #T_40406_row6_col6, #T_40406_row7_col7, #T_40406_row8_col8, #T_40406_row9_col9, #T_40406_row10_col10 {\n",
       "  background-color: #003c30;\n",
       "  color: #f1f1f1;\n",
       "  font-size: 8pt;\n",
       "  padding: 2px;\n",
       "}\n",
       "#T_40406_row0_col1 {\n",
       "  background-color: #5d3506;\n",
       "  color: #f1f1f1;\n",
       "  font-size: 8pt;\n",
       "  padding: 2px;\n",
       "}\n",
       "#T_40406_row0_col2, #T_40406_row8_col3 {\n",
       "  background-color: #633906;\n",
       "  color: #f1f1f1;\n",
       "  font-size: 8pt;\n",
       "  padding: 2px;\n",
       "}\n",
       "#T_40406_row0_col3, #T_40406_row9_col1 {\n",
       "  background-color: #774508;\n",
       "  color: #f1f1f1;\n",
       "  font-size: 8pt;\n",
       "  padding: 2px;\n",
       "}\n",
       "#T_40406_row0_col4, #T_40406_row3_col0, #T_40406_row3_col7, #T_40406_row3_col8, #T_40406_row3_col9, #T_40406_row3_col10, #T_40406_row6_col5, #T_40406_row7_col6, #T_40406_row8_col1, #T_40406_row9_col3, #T_40406_row10_col2 {\n",
       "  background-color: #543005;\n",
       "  color: #f1f1f1;\n",
       "  font-size: 8pt;\n",
       "  padding: 2px;\n",
       "}\n",
       "#T_40406_row0_col5, #T_40406_row7_col1, #T_40406_row9_col5, #T_40406_row10_col1 {\n",
       "  background-color: #734208;\n",
       "  color: #f1f1f1;\n",
       "  font-size: 8pt;\n",
       "  padding: 2px;\n",
       "}\n",
       "#T_40406_row0_col6 {\n",
       "  background-color: #844c09;\n",
       "  color: #f1f1f1;\n",
       "  font-size: 8pt;\n",
       "  padding: 2px;\n",
       "}\n",
       "#T_40406_row0_col7 {\n",
       "  background-color: #c28633;\n",
       "  color: #f1f1f1;\n",
       "  font-size: 8pt;\n",
       "  padding: 2px;\n",
       "}\n",
       "#T_40406_row0_col8, #T_40406_row3_col4, #T_40406_row4_col8 {\n",
       "  background-color: #e5cc8f;\n",
       "  color: #000000;\n",
       "  font-size: 8pt;\n",
       "  padding: 2px;\n",
       "}\n",
       "#T_40406_row0_col9, #T_40406_row7_col9 {\n",
       "  background-color: #edd9a8;\n",
       "  color: #000000;\n",
       "  font-size: 8pt;\n",
       "  padding: 2px;\n",
       "}\n",
       "#T_40406_row0_col10, #T_40406_row2_col7, #T_40406_row8_col0 {\n",
       "  background-color: #dec17b;\n",
       "  color: #000000;\n",
       "  font-size: 8pt;\n",
       "  padding: 2px;\n",
       "}\n",
       "#T_40406_row1_col0, #T_40406_row2_col0, #T_40406_row4_col7, #T_40406_row6_col0 {\n",
       "  background-color: #b57826;\n",
       "  color: #f1f1f1;\n",
       "  font-size: 8pt;\n",
       "  padding: 2px;\n",
       "}\n",
       "#T_40406_row1_col2 {\n",
       "  background-color: #d8b46c;\n",
       "  color: #000000;\n",
       "  font-size: 8pt;\n",
       "  padding: 2px;\n",
       "}\n",
       "#T_40406_row1_col3 {\n",
       "  background-color: #f6e9c5;\n",
       "  color: #000000;\n",
       "  font-size: 8pt;\n",
       "  padding: 2px;\n",
       "}\n",
       "#T_40406_row1_col4 {\n",
       "  background-color: #f5f4f2;\n",
       "  color: #000000;\n",
       "  font-size: 8pt;\n",
       "  padding: 2px;\n",
       "}\n",
       "#T_40406_row1_col5, #T_40406_row10_col6 {\n",
       "  background-color: #9f6317;\n",
       "  color: #f1f1f1;\n",
       "  font-size: 8pt;\n",
       "  padding: 2px;\n",
       "}\n",
       "#T_40406_row1_col6, #T_40406_row5_col10 {\n",
       "  background-color: #bf812d;\n",
       "  color: #f1f1f1;\n",
       "  font-size: 8pt;\n",
       "  padding: 2px;\n",
       "}\n",
       "#T_40406_row1_col7 {\n",
       "  background-color: #ad7021;\n",
       "  color: #f1f1f1;\n",
       "  font-size: 8pt;\n",
       "  padding: 2px;\n",
       "}\n",
       "#T_40406_row1_col8, #T_40406_row2_col10, #T_40406_row8_col2 {\n",
       "  background-color: #bd7f2c;\n",
       "  color: #f1f1f1;\n",
       "  font-size: 8pt;\n",
       "  padding: 2px;\n",
       "}\n",
       "#T_40406_row1_col9, #T_40406_row4_col9, #T_40406_row6_col8 {\n",
       "  background-color: #d6af65;\n",
       "  color: #000000;\n",
       "  font-size: 8pt;\n",
       "  padding: 2px;\n",
       "}\n",
       "#T_40406_row1_col10 {\n",
       "  background-color: #cea053;\n",
       "  color: #f1f1f1;\n",
       "  font-size: 8pt;\n",
       "  padding: 2px;\n",
       "}\n",
       "#T_40406_row2_col1, #T_40406_row9_col7 {\n",
       "  background-color: #d7b169;\n",
       "  color: #000000;\n",
       "  font-size: 8pt;\n",
       "  padding: 2px;\n",
       "}\n",
       "#T_40406_row2_col3 {\n",
       "  background-color: #f1e1b5;\n",
       "  color: #000000;\n",
       "  font-size: 8pt;\n",
       "  padding: 2px;\n",
       "}\n",
       "#T_40406_row2_col4, #T_40406_row4_col2 {\n",
       "  background-color: #f2f4f4;\n",
       "  color: #000000;\n",
       "  font-size: 8pt;\n",
       "  padding: 2px;\n",
       "}\n",
       "#T_40406_row2_col5, #T_40406_row5_col2 {\n",
       "  background-color: #70c1b6;\n",
       "  color: #000000;\n",
       "  font-size: 8pt;\n",
       "  padding: 2px;\n",
       "}\n",
       "#T_40406_row2_col6 {\n",
       "  background-color: #894f0a;\n",
       "  color: #f1f1f1;\n",
       "  font-size: 8pt;\n",
       "  padding: 2px;\n",
       "}\n",
       "#T_40406_row2_col8, #T_40406_row8_col7 {\n",
       "  background-color: #ead59f;\n",
       "  color: #000000;\n",
       "  font-size: 8pt;\n",
       "  padding: 2px;\n",
       "}\n",
       "#T_40406_row2_col9, #T_40406_row7_col0 {\n",
       "  background-color: #cfa256;\n",
       "  color: #f1f1f1;\n",
       "  font-size: 8pt;\n",
       "  padding: 2px;\n",
       "}\n",
       "#T_40406_row3_col1 {\n",
       "  background-color: #ca9849;\n",
       "  color: #f1f1f1;\n",
       "  font-size: 8pt;\n",
       "  padding: 2px;\n",
       "}\n",
       "#T_40406_row3_col2, #T_40406_row7_col2, #T_40406_row8_col5 {\n",
       "  background-color: #c48b3a;\n",
       "  color: #f1f1f1;\n",
       "  font-size: 8pt;\n",
       "  padding: 2px;\n",
       "}\n",
       "#T_40406_row3_col5 {\n",
       "  background-color: #975b12;\n",
       "  color: #f1f1f1;\n",
       "  font-size: 8pt;\n",
       "  padding: 2px;\n",
       "}\n",
       "#T_40406_row3_col6 {\n",
       "  background-color: #e0c481;\n",
       "  color: #000000;\n",
       "  font-size: 8pt;\n",
       "  padding: 2px;\n",
       "}\n",
       "#T_40406_row4_col0, #T_40406_row8_col6 {\n",
       "  background-color: #a96c1e;\n",
       "  color: #f1f1f1;\n",
       "  font-size: 8pt;\n",
       "  padding: 2px;\n",
       "}\n",
       "#T_40406_row4_col1 {\n",
       "  background-color: #f5f4f0;\n",
       "  color: #000000;\n",
       "  font-size: 8pt;\n",
       "  padding: 2px;\n",
       "}\n",
       "#T_40406_row4_col3 {\n",
       "  background-color: #f5f1e6;\n",
       "  color: #000000;\n",
       "  font-size: 8pt;\n",
       "  padding: 2px;\n",
       "}\n",
       "#T_40406_row4_col5, #T_40406_row5_col4, #T_40406_row5_col7 {\n",
       "  background-color: #e3c989;\n",
       "  color: #000000;\n",
       "  font-size: 8pt;\n",
       "  padding: 2px;\n",
       "}\n",
       "#T_40406_row4_col6 {\n",
       "  background-color: #e7cf94;\n",
       "  color: #000000;\n",
       "  font-size: 8pt;\n",
       "  padding: 2px;\n",
       "}\n",
       "#T_40406_row4_col10 {\n",
       "  background-color: #c79040;\n",
       "  color: #f1f1f1;\n",
       "  font-size: 8pt;\n",
       "  padding: 2px;\n",
       "}\n",
       "#T_40406_row5_col0 {\n",
       "  background-color: #c08430;\n",
       "  color: #f1f1f1;\n",
       "  font-size: 8pt;\n",
       "  padding: 2px;\n",
       "}\n",
       "#T_40406_row5_col1 {\n",
       "  background-color: #9b5f14;\n",
       "  color: #f1f1f1;\n",
       "  font-size: 8pt;\n",
       "  padding: 2px;\n",
       "}\n",
       "#T_40406_row5_col3, #T_40406_row6_col9, #T_40406_row8_col9 {\n",
       "  background-color: #e1c684;\n",
       "  color: #000000;\n",
       "  font-size: 8pt;\n",
       "  padding: 2px;\n",
       "}\n",
       "#T_40406_row5_col6 {\n",
       "  background-color: #754308;\n",
       "  color: #f1f1f1;\n",
       "  font-size: 8pt;\n",
       "  padding: 2px;\n",
       "}\n",
       "#T_40406_row5_col8 {\n",
       "  background-color: #eedbaa;\n",
       "  color: #000000;\n",
       "  font-size: 8pt;\n",
       "  padding: 2px;\n",
       "}\n",
       "#T_40406_row5_col9 {\n",
       "  background-color: #d1a559;\n",
       "  color: #000000;\n",
       "  font-size: 8pt;\n",
       "  padding: 2px;\n",
       "}\n",
       "#T_40406_row6_col1 {\n",
       "  background-color: #a16518;\n",
       "  color: #f1f1f1;\n",
       "  font-size: 8pt;\n",
       "  padding: 2px;\n",
       "}\n",
       "#T_40406_row6_col2, #T_40406_row10_col4 {\n",
       "  background-color: #683c07;\n",
       "  color: #f1f1f1;\n",
       "  font-size: 8pt;\n",
       "  padding: 2px;\n",
       "}\n",
       "#T_40406_row6_col3 {\n",
       "  background-color: #f6ebcd;\n",
       "  color: #000000;\n",
       "  font-size: 8pt;\n",
       "  padding: 2px;\n",
       "}\n",
       "#T_40406_row6_col4 {\n",
       "  background-color: #dcbc75;\n",
       "  color: #000000;\n",
       "  font-size: 8pt;\n",
       "  padding: 2px;\n",
       "}\n",
       "#T_40406_row6_col7 {\n",
       "  background-color: #6e4007;\n",
       "  color: #f1f1f1;\n",
       "  font-size: 8pt;\n",
       "  padding: 2px;\n",
       "}\n",
       "#T_40406_row6_col10 {\n",
       "  background-color: #d3aa5f;\n",
       "  color: #000000;\n",
       "  font-size: 8pt;\n",
       "  padding: 2px;\n",
       "}\n",
       "#T_40406_row7_col3 {\n",
       "  background-color: #955910;\n",
       "  color: #f1f1f1;\n",
       "  font-size: 8pt;\n",
       "  padding: 2px;\n",
       "}\n",
       "#T_40406_row7_col4 {\n",
       "  background-color: #824b09;\n",
       "  color: #f1f1f1;\n",
       "  font-size: 8pt;\n",
       "  padding: 2px;\n",
       "}\n",
       "#T_40406_row7_col5, #T_40406_row8_col10 {\n",
       "  background-color: #c99546;\n",
       "  color: #f1f1f1;\n",
       "  font-size: 8pt;\n",
       "  padding: 2px;\n",
       "}\n",
       "#T_40406_row7_col8 {\n",
       "  background-color: #f6e9c7;\n",
       "  color: #000000;\n",
       "  font-size: 8pt;\n",
       "  padding: 2px;\n",
       "}\n",
       "#T_40406_row7_col10 {\n",
       "  background-color: #e6cd92;\n",
       "  color: #000000;\n",
       "  font-size: 8pt;\n",
       "  padding: 2px;\n",
       "}\n",
       "#T_40406_row8_col4 {\n",
       "  background-color: #af7222;\n",
       "  color: #f1f1f1;\n",
       "  font-size: 8pt;\n",
       "  padding: 2px;\n",
       "}\n",
       "#T_40406_row9_col0 {\n",
       "  background-color: #e2c787;\n",
       "  color: #000000;\n",
       "  font-size: 8pt;\n",
       "  padding: 2px;\n",
       "}\n",
       "#T_40406_row9_col2 {\n",
       "  background-color: #6c3e07;\n",
       "  color: #f1f1f1;\n",
       "  font-size: 8pt;\n",
       "  padding: 2px;\n",
       "}\n",
       "#T_40406_row9_col4 {\n",
       "  background-color: #7e4909;\n",
       "  color: #f1f1f1;\n",
       "  font-size: 8pt;\n",
       "  padding: 2px;\n",
       "}\n",
       "#T_40406_row9_col6 {\n",
       "  background-color: #b17423;\n",
       "  color: #f1f1f1;\n",
       "  font-size: 8pt;\n",
       "  padding: 2px;\n",
       "}\n",
       "#T_40406_row9_col8 {\n",
       "  background-color: #dbb972;\n",
       "  color: #000000;\n",
       "  font-size: 8pt;\n",
       "  padding: 2px;\n",
       "}\n",
       "#T_40406_row9_col10 {\n",
       "  background-color: #1f827a;\n",
       "  color: #f1f1f1;\n",
       "  font-size: 8pt;\n",
       "  padding: 2px;\n",
       "}\n",
       "#T_40406_row10_col0 {\n",
       "  background-color: #d4ac62;\n",
       "  color: #000000;\n",
       "  font-size: 8pt;\n",
       "  padding: 2px;\n",
       "}\n",
       "#T_40406_row10_col3 {\n",
       "  background-color: #5f3606;\n",
       "  color: #f1f1f1;\n",
       "  font-size: 8pt;\n",
       "  padding: 2px;\n",
       "}\n",
       "#T_40406_row10_col5 {\n",
       "  background-color: #583305;\n",
       "  color: #f1f1f1;\n",
       "  font-size: 8pt;\n",
       "  padding: 2px;\n",
       "}\n",
       "#T_40406_row10_col7 {\n",
       "  background-color: #d2a75c;\n",
       "  color: #000000;\n",
       "  font-size: 8pt;\n",
       "  padding: 2px;\n",
       "}\n",
       "#T_40406_row10_col8 {\n",
       "  background-color: #c89343;\n",
       "  color: #f1f1f1;\n",
       "  font-size: 8pt;\n",
       "  padding: 2px;\n",
       "}\n",
       "#T_40406_row10_col9 {\n",
       "  background-color: #1d8078;\n",
       "  color: #f1f1f1;\n",
       "  font-size: 8pt;\n",
       "  padding: 2px;\n",
       "}\n",
       "</style>\n",
       "<table id=\"T_40406\">\n",
       "  <thead>\n",
       "    <tr>\n",
       "      <th class=\"blank level0\" >&nbsp;</th>\n",
       "      <th id=\"T_40406_level0_col0\" class=\"col_heading level0 col0\" >CLIENTE_MORA</th>\n",
       "      <th id=\"T_40406_level0_col1\" class=\"col_heading level0 col1\" >EDAD</th>\n",
       "      <th id=\"T_40406_level0_col2\" class=\"col_heading level0 col2\" >INGRESO</th>\n",
       "      <th id=\"T_40406_level0_col3\" class=\"col_heading level0 col3\" >SCORE_DATACREDITO</th>\n",
       "      <th id=\"T_40406_level0_col4\" class=\"col_heading level0 col4\" >ANT_SF</th>\n",
       "      <th id=\"T_40406_level0_col5\" class=\"col_heading level0 col5\" >SALDO_SF</th>\n",
       "      <th id=\"T_40406_level0_col6\" class=\"col_heading level0 col6\" >ULTIMAPERTURA</th>\n",
       "      <th id=\"T_40406_level0_col7\" class=\"col_heading level0 col7\" >SALDO_FIJO</th>\n",
       "      <th id=\"T_40406_level0_col8\" class=\"col_heading level0 col8\" >SALDO_ROT</th>\n",
       "      <th id=\"T_40406_level0_col9\" class=\"col_heading level0 col9\" >ESTADO_MORA_FIN</th>\n",
       "      <th id=\"T_40406_level0_col10\" class=\"col_heading level0 col10\" >ESTADO_MORA_REAL</th>\n",
       "    </tr>\n",
       "  </thead>\n",
       "  <tbody>\n",
       "    <tr>\n",
       "      <th id=\"T_40406_level0_row0\" class=\"row_heading level0 row0\" >CLIENTE_MORA</th>\n",
       "      <td id=\"T_40406_row0_col0\" class=\"data row0 col0\" >1.00</td>\n",
       "      <td id=\"T_40406_row0_col1\" class=\"data row0 col1\" >-0.04</td>\n",
       "      <td id=\"T_40406_row0_col2\" class=\"data row0 col2\" >-0.04</td>\n",
       "      <td id=\"T_40406_row0_col3\" class=\"data row0 col3\" >-0.27</td>\n",
       "      <td id=\"T_40406_row0_col4\" class=\"data row0 col4\" >-0.07</td>\n",
       "      <td id=\"T_40406_row0_col5\" class=\"data row0 col5\" >-0.01</td>\n",
       "      <td id=\"T_40406_row0_col6\" class=\"data row0 col6\" >-0.04</td>\n",
       "      <td id=\"T_40406_row0_col7\" class=\"data row0 col7\" >0.05</td>\n",
       "      <td id=\"T_40406_row0_col8\" class=\"data row0 col8\" >0.11</td>\n",
       "      <td id=\"T_40406_row0_col9\" class=\"data row0 col9\" >0.13</td>\n",
       "      <td id=\"T_40406_row0_col10\" class=\"data row0 col10\" >0.07</td>\n",
       "    </tr>\n",
       "    <tr>\n",
       "      <th id=\"T_40406_level0_row1\" class=\"row_heading level0 row1\" >EDAD</th>\n",
       "      <td id=\"T_40406_row1_col0\" class=\"data row1 col0\" >-0.04</td>\n",
       "      <td id=\"T_40406_row1_col1\" class=\"data row1 col1\" >1.00</td>\n",
       "      <td id=\"T_40406_row1_col2\" class=\"data row1 col2\" >0.23</td>\n",
       "      <td id=\"T_40406_row1_col3\" class=\"data row1 col3\" >0.19</td>\n",
       "      <td id=\"T_40406_row1_col4\" class=\"data row1 col4\" >0.46</td>\n",
       "      <td id=\"T_40406_row1_col5\" class=\"data row1 col5\" >0.08</td>\n",
       "      <td id=\"T_40406_row1_col6\" class=\"data row1 col6\" >0.09</td>\n",
       "      <td id=\"T_40406_row1_col7\" class=\"data row1 col7\" >-0.00</td>\n",
       "      <td id=\"T_40406_row1_col8\" class=\"data row1 col8\" >-0.06</td>\n",
       "      <td id=\"T_40406_row1_col9\" class=\"data row1 col9\" >0.01</td>\n",
       "      <td id=\"T_40406_row1_col10\" class=\"data row1 col10\" >0.00</td>\n",
       "    </tr>\n",
       "    <tr>\n",
       "      <th id=\"T_40406_level0_row2\" class=\"row_heading level0 row2\" >INGRESO</th>\n",
       "      <td id=\"T_40406_row2_col0\" class=\"data row2 col0\" >-0.04</td>\n",
       "      <td id=\"T_40406_row2_col1\" class=\"data row2 col1\" >0.23</td>\n",
       "      <td id=\"T_40406_row2_col2\" class=\"data row2 col2\" >1.00</td>\n",
       "      <td id=\"T_40406_row2_col3\" class=\"data row2 col3\" >0.16</td>\n",
       "      <td id=\"T_40406_row2_col4\" class=\"data row2 col4\" >0.47</td>\n",
       "      <td id=\"T_40406_row2_col5\" class=\"data row2 col5\" >0.70</td>\n",
       "      <td id=\"T_40406_row2_col6\" class=\"data row2 col6\" >-0.03</td>\n",
       "      <td id=\"T_40406_row2_col7\" class=\"data row2 col7\" >0.16</td>\n",
       "      <td id=\"T_40406_row2_col8\" class=\"data row2 col8\" >0.14</td>\n",
       "      <td id=\"T_40406_row2_col9\" class=\"data row2 col9\" >-0.02</td>\n",
       "      <td id=\"T_40406_row2_col10\" class=\"data row2 col10\" >-0.07</td>\n",
       "    </tr>\n",
       "    <tr>\n",
       "      <th id=\"T_40406_level0_row3\" class=\"row_heading level0 row3\" >SCORE_DATACREDITO</th>\n",
       "      <td id=\"T_40406_row3_col0\" class=\"data row3 col0\" >-0.27</td>\n",
       "      <td id=\"T_40406_row3_col1\" class=\"data row3 col1\" >0.19</td>\n",
       "      <td id=\"T_40406_row3_col2\" class=\"data row3 col2\" >0.16</td>\n",
       "      <td id=\"T_40406_row3_col3\" class=\"data row3 col3\" >1.00</td>\n",
       "      <td id=\"T_40406_row3_col4\" class=\"data row3 col4\" >0.28</td>\n",
       "      <td id=\"T_40406_row3_col5\" class=\"data row3 col5\" >0.06</td>\n",
       "      <td id=\"T_40406_row3_col6\" class=\"data row3 col6\" >0.21</td>\n",
       "      <td id=\"T_40406_row3_col7\" class=\"data row3 col7\" >-0.20</td>\n",
       "      <td id=\"T_40406_row3_col8\" class=\"data row3 col8\" >-0.32</td>\n",
       "      <td id=\"T_40406_row3_col9\" class=\"data row3 col9\" >-0.36</td>\n",
       "      <td id=\"T_40406_row3_col10\" class=\"data row3 col10\" >-0.33</td>\n",
       "    </tr>\n",
       "    <tr>\n",
       "      <th id=\"T_40406_level0_row4\" class=\"row_heading level0 row4\" >ANT_SF</th>\n",
       "      <td id=\"T_40406_row4_col0\" class=\"data row4 col0\" >-0.07</td>\n",
       "      <td id=\"T_40406_row4_col1\" class=\"data row4 col1\" >0.46</td>\n",
       "      <td id=\"T_40406_row4_col2\" class=\"data row4 col2\" >0.47</td>\n",
       "      <td id=\"T_40406_row4_col3\" class=\"data row4 col3\" >0.28</td>\n",
       "      <td id=\"T_40406_row4_col4\" class=\"data row4 col4\" >1.00</td>\n",
       "      <td id=\"T_40406_row4_col5\" class=\"data row4 col5\" >0.27</td>\n",
       "      <td id=\"T_40406_row4_col6\" class=\"data row4 col6\" >0.24</td>\n",
       "      <td id=\"T_40406_row4_col7\" class=\"data row4 col7\" >0.02</td>\n",
       "      <td id=\"T_40406_row4_col8\" class=\"data row4 col8\" >0.11</td>\n",
       "      <td id=\"T_40406_row4_col9\" class=\"data row4 col9\" >0.01</td>\n",
       "      <td id=\"T_40406_row4_col10\" class=\"data row4 col10\" >-0.03</td>\n",
       "    </tr>\n",
       "    <tr>\n",
       "      <th id=\"T_40406_level0_row5\" class=\"row_heading level0 row5\" >SALDO_SF</th>\n",
       "      <td id=\"T_40406_row5_col0\" class=\"data row5 col0\" >-0.01</td>\n",
       "      <td id=\"T_40406_row5_col1\" class=\"data row5 col1\" >0.08</td>\n",
       "      <td id=\"T_40406_row5_col2\" class=\"data row5 col2\" >0.70</td>\n",
       "      <td id=\"T_40406_row5_col3\" class=\"data row5 col3\" >0.06</td>\n",
       "      <td id=\"T_40406_row5_col4\" class=\"data row5 col4\" >0.27</td>\n",
       "      <td id=\"T_40406_row5_col5\" class=\"data row5 col5\" >1.00</td>\n",
       "      <td id=\"T_40406_row5_col6\" class=\"data row5 col6\" >-0.07</td>\n",
       "      <td id=\"T_40406_row5_col7\" class=\"data row5 col7\" >0.18</td>\n",
       "      <td id=\"T_40406_row5_col8\" class=\"data row5 col8\" >0.16</td>\n",
       "      <td id=\"T_40406_row5_col9\" class=\"data row5 col9\" >-0.01</td>\n",
       "      <td id=\"T_40406_row5_col10\" class=\"data row5 col10\" >-0.06</td>\n",
       "    </tr>\n",
       "    <tr>\n",
       "      <th id=\"T_40406_level0_row6\" class=\"row_heading level0 row6\" >ULTIMAPERTURA</th>\n",
       "      <td id=\"T_40406_row6_col0\" class=\"data row6 col0\" >-0.04</td>\n",
       "      <td id=\"T_40406_row6_col1\" class=\"data row6 col1\" >0.09</td>\n",
       "      <td id=\"T_40406_row6_col2\" class=\"data row6 col2\" >-0.03</td>\n",
       "      <td id=\"T_40406_row6_col3\" class=\"data row6 col3\" >0.21</td>\n",
       "      <td id=\"T_40406_row6_col4\" class=\"data row6 col4\" >0.24</td>\n",
       "      <td id=\"T_40406_row6_col5\" class=\"data row6 col5\" >-0.07</td>\n",
       "      <td id=\"T_40406_row6_col6\" class=\"data row6 col6\" >1.00</td>\n",
       "      <td id=\"T_40406_row6_col7\" class=\"data row6 col7\" >-0.14</td>\n",
       "      <td id=\"T_40406_row6_col8\" class=\"data row6 col8\" >0.04</td>\n",
       "      <td id=\"T_40406_row6_col9\" class=\"data row6 col9\" >0.06</td>\n",
       "      <td id=\"T_40406_row6_col10\" class=\"data row6 col10\" >0.02</td>\n",
       "    </tr>\n",
       "    <tr>\n",
       "      <th id=\"T_40406_level0_row7\" class=\"row_heading level0 row7\" >SALDO_FIJO</th>\n",
       "      <td id=\"T_40406_row7_col0\" class=\"data row7 col0\" >0.05</td>\n",
       "      <td id=\"T_40406_row7_col1\" class=\"data row7 col1\" >-0.00</td>\n",
       "      <td id=\"T_40406_row7_col2\" class=\"data row7 col2\" >0.16</td>\n",
       "      <td id=\"T_40406_row7_col3\" class=\"data row7 col3\" >-0.20</td>\n",
       "      <td id=\"T_40406_row7_col4\" class=\"data row7 col4\" >0.02</td>\n",
       "      <td id=\"T_40406_row7_col5\" class=\"data row7 col5\" >0.18</td>\n",
       "      <td id=\"T_40406_row7_col6\" class=\"data row7 col6\" >-0.14</td>\n",
       "      <td id=\"T_40406_row7_col7\" class=\"data row7 col7\" >1.00</td>\n",
       "      <td id=\"T_40406_row7_col8\" class=\"data row7 col8\" >0.22</td>\n",
       "      <td id=\"T_40406_row7_col9\" class=\"data row7 col9\" >0.13</td>\n",
       "      <td id=\"T_40406_row7_col10\" class=\"data row7 col10\" >0.11</td>\n",
       "    </tr>\n",
       "    <tr>\n",
       "      <th id=\"T_40406_level0_row8\" class=\"row_heading level0 row8\" >SALDO_ROT</th>\n",
       "      <td id=\"T_40406_row8_col0\" class=\"data row8 col0\" >0.11</td>\n",
       "      <td id=\"T_40406_row8_col1\" class=\"data row8 col1\" >-0.06</td>\n",
       "      <td id=\"T_40406_row8_col2\" class=\"data row8 col2\" >0.14</td>\n",
       "      <td id=\"T_40406_row8_col3\" class=\"data row8 col3\" >-0.32</td>\n",
       "      <td id=\"T_40406_row8_col4\" class=\"data row8 col4\" >0.11</td>\n",
       "      <td id=\"T_40406_row8_col5\" class=\"data row8 col5\" >0.16</td>\n",
       "      <td id=\"T_40406_row8_col6\" class=\"data row8 col6\" >0.04</td>\n",
       "      <td id=\"T_40406_row8_col7\" class=\"data row8 col7\" >0.22</td>\n",
       "      <td id=\"T_40406_row8_col8\" class=\"data row8 col8\" >1.00</td>\n",
       "      <td id=\"T_40406_row8_col9\" class=\"data row8 col9\" >0.06</td>\n",
       "      <td id=\"T_40406_row8_col10\" class=\"data row8 col10\" >-0.02</td>\n",
       "    </tr>\n",
       "    <tr>\n",
       "      <th id=\"T_40406_level0_row9\" class=\"row_heading level0 row9\" >ESTADO_MORA_FIN</th>\n",
       "      <td id=\"T_40406_row9_col0\" class=\"data row9 col0\" >0.13</td>\n",
       "      <td id=\"T_40406_row9_col1\" class=\"data row9 col1\" >0.01</td>\n",
       "      <td id=\"T_40406_row9_col2\" class=\"data row9 col2\" >-0.02</td>\n",
       "      <td id=\"T_40406_row9_col3\" class=\"data row9 col3\" >-0.36</td>\n",
       "      <td id=\"T_40406_row9_col4\" class=\"data row9 col4\" >0.01</td>\n",
       "      <td id=\"T_40406_row9_col5\" class=\"data row9 col5\" >-0.01</td>\n",
       "      <td id=\"T_40406_row9_col6\" class=\"data row9 col6\" >0.06</td>\n",
       "      <td id=\"T_40406_row9_col7\" class=\"data row9 col7\" >0.13</td>\n",
       "      <td id=\"T_40406_row9_col8\" class=\"data row9 col8\" >0.06</td>\n",
       "      <td id=\"T_40406_row9_col9\" class=\"data row9 col9\" >1.00</td>\n",
       "      <td id=\"T_40406_row9_col10\" class=\"data row9 col10\" >0.79</td>\n",
       "    </tr>\n",
       "    <tr>\n",
       "      <th id=\"T_40406_level0_row10\" class=\"row_heading level0 row10\" >ESTADO_MORA_REAL</th>\n",
       "      <td id=\"T_40406_row10_col0\" class=\"data row10 col0\" >0.07</td>\n",
       "      <td id=\"T_40406_row10_col1\" class=\"data row10 col1\" >0.00</td>\n",
       "      <td id=\"T_40406_row10_col2\" class=\"data row10 col2\" >-0.07</td>\n",
       "      <td id=\"T_40406_row10_col3\" class=\"data row10 col3\" >-0.33</td>\n",
       "      <td id=\"T_40406_row10_col4\" class=\"data row10 col4\" >-0.03</td>\n",
       "      <td id=\"T_40406_row10_col5\" class=\"data row10 col5\" >-0.06</td>\n",
       "      <td id=\"T_40406_row10_col6\" class=\"data row10 col6\" >0.02</td>\n",
       "      <td id=\"T_40406_row10_col7\" class=\"data row10 col7\" >0.11</td>\n",
       "      <td id=\"T_40406_row10_col8\" class=\"data row10 col8\" >-0.02</td>\n",
       "      <td id=\"T_40406_row10_col9\" class=\"data row10 col9\" >0.79</td>\n",
       "      <td id=\"T_40406_row10_col10\" class=\"data row10 col10\" >1.00</td>\n",
       "    </tr>\n",
       "  </tbody>\n",
       "</table>\n"
      ],
      "text/plain": [
       "<pandas.io.formats.style.Styler at 0x206573c7b00>"
      ]
     },
     "metadata": {},
     "output_type": "display_data"
    }
   ],
   "source": [
    "# Matriz de correlación compacta con encabezados verticales sin superposición\n",
    "corr = datos.select_dtypes(include='number').corr().round(2)\n",
    "\n",
    "display(\n",
    "    corr.style\n",
    "        .format(\"{:.2f}\")\n",
    "        .background_gradient(cmap=\"BrBG\")\n",
    "        # fuente y padding pequeños en todo\n",
    "        .set_properties(**{\"font-size\":\"8pt\", \"padding\":\"2px\"})\n",
    "        # estilos específicos de encabezados\n",
    "        .set_table_styles([\n",
    "            # columnas: vertical, ancho fijo pequeño, sin quiebre ni solape\n",
    "            {\"selector\":\"th.col_heading\",\n",
    "             \"props\":[\n",
    "                 (\"writing-mode\",\"vertical-rl\"),\n",
    "                 (\"text-orientation\",\"mixed\"),\n",
    "                 (\"width\",\"24px\"), (\"min-width\",\"24px\"), (\"max-width\",\"24px\"),\n",
    "                 (\"height\",\"140px\"),\n",
    "                 (\"white-space\",\"nowrap\"),\n",
    "                 (\"overflow\",\"hidden\"),\n",
    "                 (\"text-overflow\",\"clip\"),\n",
    "                 (\"font-size\",\"7pt\"),\n",
    "                 (\"padding\",\"6px 2px\")\n",
    "             ]},\n",
    "            # filas: fuente pequeña\n",
    "            {\"selector\":\"th.row_heading\",\n",
    "             \"props\":[(\"font-size\",\"7pt\"), (\"white-space\",\"nowrap\")]}\n",
    "        ])\n",
    ")"
   ]
  },
  {
   "cell_type": "markdown",
   "metadata": {},
   "source": [
    "* En la matriz de correlación se evidencia que las variables que más estan relacionadas con la variable de incumplimiento de pago es el score Advance generado por Datacredito y en segunda medida variables como los saldos de los creditos, los estados de mora y la antiguedad en el sector financiero. \n"
   ]
  },
  {
   "cell_type": "markdown",
   "metadata": {},
   "source": [
    "### Eliminación de variables VIF"
   ]
  },
  {
   "cell_type": "code",
   "execution_count": 24,
   "metadata": {},
   "outputs": [
    {
     "data": {
      "text/html": [
       "<style type=\"text/css\">\n",
       "</style>\n",
       "<table id=\"T_72fb6\">\n",
       "  <thead>\n",
       "    <tr>\n",
       "      <th class=\"blank level0\" >&nbsp;</th>\n",
       "      <th id=\"T_72fb6_level0_col0\" class=\"col_heading level0 col0\" >Variable</th>\n",
       "      <th id=\"T_72fb6_level0_col1\" class=\"col_heading level0 col1\" >VIF</th>\n",
       "    </tr>\n",
       "  </thead>\n",
       "  <tbody>\n",
       "    <tr>\n",
       "      <th id=\"T_72fb6_level0_row0\" class=\"row_heading level0 row0\" >0</th>\n",
       "      <td id=\"T_72fb6_row0_col0\" class=\"data row0 col0\" >ESTADO_MORA_FIN</td>\n",
       "      <td id=\"T_72fb6_row0_col1\" class=\"data row0 col1\" >2.76</td>\n",
       "    </tr>\n",
       "    <tr>\n",
       "      <th id=\"T_72fb6_level0_row1\" class=\"row_heading level0 row1\" >1</th>\n",
       "      <td id=\"T_72fb6_row1_col0\" class=\"data row1 col0\" >ESTADO_MORA_REAL</td>\n",
       "      <td id=\"T_72fb6_row1_col1\" class=\"data row1 col1\" >2.72</td>\n",
       "    </tr>\n",
       "    <tr>\n",
       "      <th id=\"T_72fb6_level0_row2\" class=\"row_heading level0 row2\" >2</th>\n",
       "      <td id=\"T_72fb6_row2_col0\" class=\"data row2 col0\" >INGRESO</td>\n",
       "      <td id=\"T_72fb6_row2_col1\" class=\"data row2 col1\" >2.40</td>\n",
       "    </tr>\n",
       "    <tr>\n",
       "      <th id=\"T_72fb6_level0_row3\" class=\"row_heading level0 row3\" >3</th>\n",
       "      <td id=\"T_72fb6_row3_col0\" class=\"data row3 col0\" >SALDO_SF</td>\n",
       "      <td id=\"T_72fb6_row3_col1\" class=\"data row3 col1\" >2.01</td>\n",
       "    </tr>\n",
       "    <tr>\n",
       "      <th id=\"T_72fb6_level0_row4\" class=\"row_heading level0 row4\" >4</th>\n",
       "      <td id=\"T_72fb6_row4_col0\" class=\"data row4 col0\" >ANT_SF</td>\n",
       "      <td id=\"T_72fb6_row4_col1\" class=\"data row4 col1\" >1.75</td>\n",
       "    </tr>\n",
       "    <tr>\n",
       "      <th id=\"T_72fb6_level0_row5\" class=\"row_heading level0 row5\" >5</th>\n",
       "      <td id=\"T_72fb6_row5_col0\" class=\"data row5 col0\" >SCORE_DATACREDITO</td>\n",
       "      <td id=\"T_72fb6_row5_col1\" class=\"data row5 col1\" >1.67</td>\n",
       "    </tr>\n",
       "    <tr>\n",
       "      <th id=\"T_72fb6_level0_row6\" class=\"row_heading level0 row6\" >6</th>\n",
       "      <td id=\"T_72fb6_row6_col0\" class=\"data row6 col0\" >EDAD</td>\n",
       "      <td id=\"T_72fb6_row6_col1\" class=\"data row6 col1\" >1.29</td>\n",
       "    </tr>\n",
       "    <tr>\n",
       "      <th id=\"T_72fb6_level0_row7\" class=\"row_heading level0 row7\" >7</th>\n",
       "      <td id=\"T_72fb6_row7_col0\" class=\"data row7 col0\" >SALDO_ROT</td>\n",
       "      <td id=\"T_72fb6_row7_col1\" class=\"data row7 col1\" >1.29</td>\n",
       "    </tr>\n",
       "    <tr>\n",
       "      <th id=\"T_72fb6_level0_row8\" class=\"row_heading level0 row8\" >8</th>\n",
       "      <td id=\"T_72fb6_row8_col0\" class=\"data row8 col0\" >ULTIMAPERTURA</td>\n",
       "      <td id=\"T_72fb6_row8_col1\" class=\"data row8 col1\" >1.17</td>\n",
       "    </tr>\n",
       "    <tr>\n",
       "      <th id=\"T_72fb6_level0_row9\" class=\"row_heading level0 row9\" >9</th>\n",
       "      <td id=\"T_72fb6_row9_col0\" class=\"data row9 col0\" >SALDO_FIJO</td>\n",
       "      <td id=\"T_72fb6_row9_col1\" class=\"data row9 col1\" >1.14</td>\n",
       "    </tr>\n",
       "    <tr>\n",
       "      <th id=\"T_72fb6_level0_row10\" class=\"row_heading level0 row10\" >10</th>\n",
       "      <td id=\"T_72fb6_row10_col0\" class=\"data row10 col0\" >CLIENTE_MORA</td>\n",
       "      <td id=\"T_72fb6_row10_col1\" class=\"data row10 col1\" >1.09</td>\n",
       "    </tr>\n",
       "  </tbody>\n",
       "</table>\n"
      ],
      "text/plain": [
       "<pandas.io.formats.style.Styler at 0x20663128950>"
      ]
     },
     "metadata": {},
     "output_type": "display_data"
    }
   ],
   "source": [
    "# 1) Solo numéricas y limpieza mínima\n",
    "num = datos.select_dtypes(include='number').copy()\n",
    "num = num.dropna(axis=1, how='all')                 # quita columnas totalmente vacías\n",
    "num = num.loc[:, num.nunique()>1]                   # quita columnas con varianza 0\n",
    "num = num.fillna(num.median(numeric_only=True))     # imputación simple (si hay NA)\n",
    "\n",
    "# 2) Matriz para VIF (no necesita estandarizar)\n",
    "X = sm.add_constant(num, has_constant='add')\n",
    "\n",
    "# 3) Calcular VIF (omitimos la constante en el resultado)\n",
    "vif_vals = [variance_inflation_factor(X.values, i) for i in range(1, X.shape[1])]\n",
    "vifs = (pd.DataFrame({'Variable': num.columns, 'VIF': vif_vals})\n",
    "          .replace([np.inf, -np.inf], np.nan)\n",
    "          .sort_values('VIF', ascending=False)\n",
    "          .reset_index(drop=True))\n",
    "\n",
    "# 4) Mostrar\n",
    "display(vifs.style.format({'VIF':'{:.2f}'}))\n"
   ]
  },
  {
   "cell_type": "markdown",
   "metadata": {},
   "source": [
    "# Pipelines"
   ]
  },
  {
   "cell_type": "code",
   "execution_count": 25,
   "metadata": {},
   "outputs": [
    {
     "name": "stdout",
     "output_type": "stream",
     "text": [
      "Shape original: (40000, 13) → transformado: (40000, 17)\n"
     ]
    }
   ],
   "source": [
    "from sklearn.compose import ColumnTransformer\n",
    "from sklearn.preprocessing import OneHotEncoder, RobustScaler\n",
    "import numpy as np\n",
    "import pandas as pd\n",
    "\n",
    "# X e y\n",
    "X = datos.drop(columns='CLIENTE_MORA')\n",
    "y = datos['CLIENTE_MORA']\n",
    "\n",
    "# Detecta columnas\n",
    "cat_cols = X.select_dtypes(include=['object','category']).columns.tolist()\n",
    "num_cols = X.select_dtypes(include=[np.number]).columns.tolist()\n",
    "\n",
    "# OneHotEncoder compatible (1.2-1.5+)\n",
    "try:\n",
    "    ohe = OneHotEncoder(handle_unknown='ignore', sparse_output=False)  # sklearn ≥1.2\n",
    "except TypeError:\n",
    "    ohe = OneHotEncoder(handle_unknown='ignore', sparse=False)         # sklearn <1.2\n",
    "\n",
    "preprocess = ColumnTransformer([\n",
    "    ('num', RobustScaler(), num_cols),\n",
    "    ('cat', ohe, cat_cols)\n",
    "], remainder='drop')\n",
    "\n",
    "X_pre = preprocess.fit_transform(X)\n",
    "print(f\"Shape original: {X.shape} → transformado: {X_pre.shape}\")\n",
    "\n"
   ]
  },
  {
   "cell_type": "markdown",
   "metadata": {},
   "source": [
    "## Partición Train Test"
   ]
  },
  {
   "cell_type": "code",
   "execution_count": 26,
   "metadata": {},
   "outputs": [
    {
     "name": "stdout",
     "output_type": "stream",
     "text": [
      "Split OK → X_train: (28000, 13), X_test: (12000, 13), seed=2025\n",
      "preprocessing_pipeline definido ✅\n"
     ]
    }
   ],
   "source": [
    "from sklearn.model_selection import train_test_split\n",
    "\n",
    "seed = 2025\n",
    "X_train, X_test, y_train, y_test = train_test_split(\n",
    "    X, y, test_size=0.30, random_state=seed, stratify=y, shuffle=True\n",
    ")\n",
    "\n",
    "# asegurar que preprocessing_pipeline exista\n",
    "try:\n",
    "    preprocessing_pipeline\n",
    "except NameError:\n",
    "    preprocessing_pipeline = preprocess\n",
    "\n",
    "print(f\"Split OK → X_train: {X_train.shape}, X_test: {X_test.shape}, seed={seed}\")\n",
    "print(\"preprocessing_pipeline definido ✅\")\n",
    "\n",
    "\n"
   ]
  },
  {
   "cell_type": "markdown",
   "metadata": {},
   "source": [
    "## Funciones de evaluación"
   ]
  },
  {
   "cell_type": "code",
   "execution_count": 27,
   "metadata": {},
   "outputs": [],
   "source": [
    "def evaluar_modelo(best_model, X_train, y_train, X_test, y_test, nombre=\"Modelo\", pos_label=1):\n",
    "    \"\"\"Imprime métricas y devuelve un dict con resultados clave.\"\"\"\n",
    "    # Predicciones duras\n",
    "    pred_train = best_model.predict(X_train)\n",
    "    pred_test  = best_model.predict(X_test)\n",
    "\n",
    "    # Probabilidades para AUC y PR-AUC\n",
    "    if hasattr(best_model, \"predict_proba\"):\n",
    "        proba_test = best_model.predict_proba(X_test)[:, 1]\n",
    "    else:\n",
    "        proba_test = best_model.decision_function(X_test)\n",
    "\n",
    "    # Métricas\n",
    "    train_acc    = accuracy_score(y_train, pred_train)\n",
    "    test_acc     = accuracy_score(y_test,  pred_test)\n",
    "    train_recall = recall_score(y_train, pred_train, pos_label=pos_label, zero_division=0)\n",
    "    test_recall  = recall_score(y_test,  pred_test,  pos_label=pos_label, zero_division=0)\n",
    "    train_prec   = precision_score(y_train, pred_train, pos_label=pos_label, zero_division=0)\n",
    "    test_prec    = precision_score(y_test,  pred_test,  pos_label=pos_label, zero_division=0)\n",
    "    roc_test     = roc_auc_score(y_test, proba_test)\n",
    "    pr_test      = average_precision_score(y_test, proba_test)\n",
    "\n",
    "    # Reporte\n",
    "    print(f\"=== {nombre} ===\")\n",
    "    print('Train Accuracy  : ', train_acc)\n",
    "    print('Test  Accuracy  : ', test_acc)\n",
    "    print('Train Recall    : ', train_recall)\n",
    "    print('Test  Recall    : ', test_recall)\n",
    "    print('Train Precision : ', train_prec)\n",
    "    print('Test  Precision : ', test_prec)\n",
    "    print('ROC AUC (test)  : ', roc_test)\n",
    "\n",
    "    print('\\nConfusion Matrix:')\n",
    "    print(confusion_matrix(y_test, pred_test))\n",
    "\n",
    "    print('\\nClassification Report:')\n",
    "    print(classification_report(y_test, pred_test, zero_division=0))\n",
    "\n",
    "    return {\n",
    "        \"train_acc\":    train_acc,\n",
    "        \"test_acc\":     test_acc,\n",
    "        \"train_recall\": train_recall,\n",
    "        \"test_recall\":  test_recall,\n",
    "        \"train_prec\":   train_prec,\n",
    "        \"test_prec\":    test_prec,\n",
    "        \"roc_auc\":      roc_test\n",
    "    }\n"
   ]
  },
  {
   "cell_type": "markdown",
   "metadata": {},
   "source": [
    "# Definicion Hiperparámetros y CV"
   ]
  },
  {
   "cell_type": "code",
   "execution_count": 28,
   "metadata": {},
   "outputs": [],
   "source": [
    "from sklearn.metrics import make_scorer, accuracy_score\n",
    "from sklearn.model_selection import StratifiedKFold\n",
    "from sklearn.tree import DecisionTreeClassifier\n",
    "\n",
    "seed = globals().get('seed', 42)\n",
    "\n",
    "param_grid = {\n",
    "    \"model\": [DecisionTreeClassifier(random_state=seed)],\n",
    "    \"model__criterion\": [\"gini\", \"entropy\"],\n",
    "    \"model__splitter\": [\"best\", \"random\"],\n",
    "    \"model__max_leaf_nodes\": [128, 256, 512, 1024],\n",
    "    \"model__max_depth\": list(map(int, np.linspace(4, 16, 32)))\n",
    "}\n",
    "\n",
    "scoring = {'AUC': 'roc_auc', 'Accuracy': make_scorer(accuracy_score)}\n",
    "kfold = StratifiedKFold(n_splits=10, random_state=seed, shuffle=True)\n",
    "n_iter = 50\n"
   ]
  },
  {
   "cell_type": "markdown",
   "metadata": {},
   "source": [
    "## Pipeline base (sin balanceo)"
   ]
  },
  {
   "cell_type": "code",
   "execution_count": 29,
   "metadata": {},
   "outputs": [
    {
     "name": "stdout",
     "output_type": "stream",
     "text": [
      ">> Mejor AUC (CV) – Base: 0.7671969907406059\n"
     ]
    }
   ],
   "source": [
    "if not any(v not in globals() for v in [\"X_train\",\"X_test\",\"y_train\",\"y_test\",\"preprocessing_pipeline\"]):\n",
    "    full_pipeline_steps = [\n",
    "        ('preprocessing_pipeline', preprocessing_pipeline),\n",
    "        ('model', DecisionTreeClassifier(random_state=seed))\n",
    "    ]\n",
    "    full_pipeline = Pipeline(steps=full_pipeline_steps)\n",
    "\n",
    "    grid_base = RandomizedSearchCV(\n",
    "        estimator=full_pipeline,\n",
    "        param_distributions=param_grid,\n",
    "        cv=kfold,\n",
    "        scoring=scoring,\n",
    "        n_jobs=-1,\n",
    "        n_iter=n_iter,\n",
    "        refit=\"AUC\",\n",
    "        random_state=seed\n",
    "    )\n",
    "    best_model_base = grid_base.fit(X_train, y_train)\n",
    "    print(\">> Mejor AUC (CV) – Base:\", best_model_base.best_score_)\n",
    "\n",
    "    # === Métricas adicionales: Recall y AUC en train y test ===\n",
    "    est = best_model_base.best_estimator_\n",
    "\n",
    "    # Predicciones duras\n",
    "    pred_train = est.predict(X_train)\n",
    "    pred_test  = est.predict(X_test)\n",
    "\n",
    "    # Scores probabilísticos para AUC\n",
    "    if hasattr(est, \"predict_proba\"):\n",
    "        score_train = est.predict_proba(X_train)[:, 1]\n",
    "        score_test  = est.predict_proba(X_test)[:, 1]\n",
    "    else:\n",
    "        score_train = est.decision_function(X_train)\n",
    "        score_test  = est.decision_function(X_test)\n",
    "\n",
    "else:\n",
    "    print(\"⛔ Define X_train/X_test/y_train/y_test/preprocessing_pipeline antes de ejecutar esta celda.\")\n"
   ]
  },
  {
   "cell_type": "markdown",
   "metadata": {},
   "source": [
    "## Undersampling dentro del CV"
   ]
  },
  {
   "cell_type": "code",
   "execution_count": 30,
   "metadata": {},
   "outputs": [
    {
     "name": "stdout",
     "output_type": "stream",
     "text": [
      ">> Mejor AUC (CV) – Undersampling: 0.7613389613193509\n"
     ]
    }
   ],
   "source": [
    "if not any(v not in globals() for v in [\"X_train\",\"X_test\",\"y_train\",\"y_test\",\"preprocessing_pipeline\"]):\n",
    "    undersampler = RandomUnderSampler(random_state=seed)\n",
    "\n",
    "    pipe_under = ImbPipeline(steps=[\n",
    "        ('preprocessing_pipeline', preprocessing_pipeline),\n",
    "        ('sampler', undersampler),\n",
    "        ('model', DecisionTreeClassifier(random_state=seed))\n",
    "    ])\n",
    "\n",
    "    grid_under = RandomizedSearchCV(\n",
    "        estimator=pipe_under,\n",
    "        param_distributions=param_grid,\n",
    "        cv=kfold,\n",
    "        scoring=scoring,\n",
    "        n_jobs=-1,\n",
    "        n_iter=n_iter,\n",
    "        refit=\"AUC\",\n",
    "        random_state=seed\n",
    "    )\n",
    "\n",
    "    best_model_under = grid_under.fit(X_train, y_train)\n",
    "    print(\">> Mejor AUC (CV) – Undersampling:\", best_model_under.best_score_)\n",
    "else:\n",
    "    print(\"⛔ Define X_train/X_test/y_train/y_test/preprocessing_pipeline antes de ejecutar esta celda.\")\n"
   ]
  },
  {
   "cell_type": "markdown",
   "metadata": {},
   "source": [
    "## Oversampling dentro del CV"
   ]
  },
  {
   "cell_type": "code",
   "execution_count": 31,
   "metadata": {},
   "outputs": [
    {
     "name": "stdout",
     "output_type": "stream",
     "text": [
      ">> Mejor AUC (CV) – Oversampling: 0.7657847275004157\n"
     ]
    }
   ],
   "source": [
    "if not any(v not in globals() for v in [\"X_train\",\"X_test\",\"y_train\",\"y_test\",\"preprocessing_pipeline\"]):\n",
    "    oversampler = RandomOverSampler(random_state=seed)\n",
    "\n",
    "    pipe_over = ImbPipeline(steps=[\n",
    "        ('preprocessing_pipeline', preprocessing_pipeline),\n",
    "        ('sampler', oversampler),\n",
    "        ('model', DecisionTreeClassifier(random_state=seed))\n",
    "    ])\n",
    "\n",
    "    grid_over = RandomizedSearchCV(\n",
    "        estimator=pipe_over,\n",
    "        param_distributions=param_grid,\n",
    "        cv=kfold,\n",
    "        scoring=scoring,\n",
    "        n_jobs=-1,\n",
    "        n_iter=n_iter,\n",
    "        refit=\"AUC\",\n",
    "        random_state=seed\n",
    "    )\n",
    "\n",
    "    best_model_over = grid_over.fit(X_train, y_train)\n",
    "    print(\">> Mejor AUC (CV) – Oversampling:\", best_model_over.best_score_)\n",
    "else:\n",
    "    print(\"⛔ Define X_train/X_test/y_train/y_test/preprocessing_pipeline antes de ejecutar esta celda.\")\n"
   ]
  },
  {
   "cell_type": "markdown",
   "metadata": {},
   "source": [
    "## SMOTE dentro del CV"
   ]
  },
  {
   "cell_type": "code",
   "execution_count": 32,
   "metadata": {},
   "outputs": [
    {
     "name": "stdout",
     "output_type": "stream",
     "text": [
      ">> Mejor AUC (CV) – SMOTE: 0.7563124280655422\n",
      "Train Recall: 0.7425 | Train AUC: 0.7622\n",
      "Test  Recall: 0.7338 | Test  AUC:  0.7517\n"
     ]
    }
   ],
   "source": [
    "from imblearn.over_sampling import SMOTE\n",
    "from sklearn.metrics import recall_score, roc_auc_score  # por si faltan\n",
    "\n",
    "if not any(v not in globals() for v in [\"X_train\",\"X_test\",\"y_train\",\"y_test\",\"preprocessing_pipeline\"]):\n",
    "    smote = SMOTE(random_state=seed, k_neighbors=5)  # puedes tunear k_neighbors\n",
    "\n",
    "    pipe_smote = ImbPipeline(steps=[\n",
    "        ('preprocessing_pipeline', preprocessing_pipeline),\n",
    "        ('sampler', smote),\n",
    "        ('model', DecisionTreeClassifier(random_state=seed))\n",
    "    ])\n",
    "\n",
    "    grid_smote = RandomizedSearchCV(\n",
    "        estimator=pipe_smote,\n",
    "        param_distributions=param_grid,\n",
    "        cv=kfold,\n",
    "        scoring=scoring,\n",
    "        n_jobs=-1,\n",
    "        n_iter=n_iter,\n",
    "        refit=\"AUC\",\n",
    "        random_state=seed\n",
    "    )\n",
    "\n",
    "    best_model_smote = grid_smote.fit(X_train, y_train)\n",
    "    print(\">> Mejor AUC (CV) – SMOTE:\", best_model_smote.best_score_)\n",
    "\n",
    "    # Métricas rápidas (train/test) para Recall y AUC\n",
    "    est = best_model_smote.best_estimator_\n",
    "    pred_train = est.predict(X_train)\n",
    "    pred_test  = est.predict(X_test)\n",
    "\n",
    "    if hasattr(est, \"predict_proba\"):\n",
    "        score_train = est.predict_proba(X_train)[:, 1]\n",
    "        score_test  = est.predict_proba(X_test)[:, 1]\n",
    "    else:\n",
    "        score_train = est.decision_function(X_train)\n",
    "        score_test  = est.decision_function(X_test)\n",
    "\n",
    "    print(f\"Train Recall: {recall_score(y_train, pred_train, zero_division=0):.4f} | \"\n",
    "          f\"Train AUC: {roc_auc_score(y_train, score_train):.4f}\")\n",
    "    print(f\"Test  Recall: {recall_score(y_test,  pred_test,  zero_division=0):.4f} | \"\n",
    "          f\"Test  AUC:  {roc_auc_score(y_test,  score_test):.4f}\")\n",
    "else:\n",
    "    print(\"⛔ Define X_train/X_test/y_train/y_test/preprocessing_pipeline antes de ejecutar esta celda.\")"
   ]
  },
  {
   "cell_type": "markdown",
   "metadata": {},
   "source": [
    "## Validaciones finales"
   ]
  },
  {
   "cell_type": "code",
   "execution_count": 33,
   "metadata": {},
   "outputs": [
    {
     "name": "stdout",
     "output_type": "stream",
     "text": [
      "=== Árbol – Base (sin balanceo) ===\n",
      "Train Accuracy  :  0.9220714285714285\n",
      "Test  Accuracy  :  0.9210833333333334\n",
      "Train Recall    :  0.037693006357856496\n",
      "Test  Recall    :  0.02863202545068929\n",
      "Train Precision :  0.5684931506849316\n",
      "Test  Precision :  0.46551724137931033\n",
      "ROC AUC (test)  :  0.7670754772987289\n",
      "\n",
      "Confusion Matrix:\n",
      "[[11026    31]\n",
      " [  916    27]]\n",
      "\n",
      "Classification Report:\n",
      "              precision    recall  f1-score   support\n",
      "\n",
      "           0       0.92      1.00      0.96     11057\n",
      "           1       0.47      0.03      0.05       943\n",
      "\n",
      "    accuracy                           0.92     12000\n",
      "   macro avg       0.69      0.51      0.51     12000\n",
      "weighted avg       0.89      0.92      0.89     12000\n",
      "\n",
      "=== Árbol – Undersampling ===\n",
      "Train Accuracy  :  0.6384642857142857\n",
      "Test  Accuracy  :  0.6330833333333333\n",
      "Train Recall    :  0.7833787465940054\n",
      "Test  Recall    :  0.777306468716861\n",
      "Train Precision :  0.1517016973001495\n",
      "Test  Precision :  0.1488022736500203\n",
      "ROC AUC (test)  :  0.7627376447370806\n",
      "\n",
      "Confusion Matrix:\n",
      "[[6864 4193]\n",
      " [ 210  733]]\n",
      "\n",
      "Classification Report:\n",
      "              precision    recall  f1-score   support\n",
      "\n",
      "           0       0.97      0.62      0.76     11057\n",
      "           1       0.15      0.78      0.25       943\n",
      "\n",
      "    accuracy                           0.63     12000\n",
      "   macro avg       0.56      0.70      0.50     12000\n",
      "weighted avg       0.91      0.63      0.72     12000\n",
      "\n",
      "=== Árbol – Oversampling ===\n",
      "Train Accuracy  :  0.6841071428571428\n",
      "Test  Accuracy  :  0.6820833333333334\n",
      "Train Recall    :  0.7434150772025432\n",
      "Test  Recall    :  0.7370095440084835\n",
      "Train Precision :  0.1650700816779268\n",
      "Test  Precision :  0.163068981698733\n",
      "ROC AUC (test)  :  0.7685582498325699\n",
      "\n",
      "Confusion Matrix:\n",
      "[[7490 3567]\n",
      " [ 248  695]]\n",
      "\n",
      "Classification Report:\n",
      "              precision    recall  f1-score   support\n",
      "\n",
      "           0       0.97      0.68      0.80     11057\n",
      "           1       0.16      0.74      0.27       943\n",
      "\n",
      "    accuracy                           0.68     12000\n",
      "   macro avg       0.57      0.71      0.53     12000\n",
      "weighted avg       0.90      0.68      0.76     12000\n",
      "\n",
      "=== Árbol – SMOTE ===\n",
      "Train Accuracy  :  0.6755714285714286\n",
      "Test  Accuracy  :  0.671\n",
      "Train Recall    :  0.7425068119891008\n",
      "Test  Recall    :  0.7338282078472959\n",
      "Train Precision :  0.16105200945626477\n",
      "Test  Precision :  0.15766689450899976\n",
      "ROC AUC (test)  :  0.7517472604841143\n",
      "\n",
      "Confusion Matrix:\n",
      "[[7360 3697]\n",
      " [ 251  692]]\n",
      "\n",
      "Classification Report:\n",
      "              precision    recall  f1-score   support\n",
      "\n",
      "           0       0.97      0.67      0.79     11057\n",
      "           1       0.16      0.73      0.26       943\n",
      "\n",
      "    accuracy                           0.67     12000\n",
      "   macro avg       0.56      0.70      0.52     12000\n",
      "weighted avg       0.90      0.67      0.75     12000\n",
      "\n"
     ]
    }
   ],
   "source": [
    "# ===== 10. Validaciones finales (incluye SMOTE si existe) =====\n",
    "from sklearn.metrics import (\n",
    "    accuracy_score, recall_score, roc_auc_score, average_precision_score,\n",
    "    confusion_matrix, classification_report\n",
    ")\n",
    "models_to_eval = []\n",
    "if 'best_model_base'  in globals(): models_to_eval.append((\"Árbol – Base (sin balanceo)\", best_model_base.best_estimator_))\n",
    "if 'best_model_under' in globals(): models_to_eval.append((\"Árbol – Undersampling\",        best_model_under.best_estimator_))\n",
    "if 'best_model_over'  in globals(): models_to_eval.append((\"Árbol – Oversampling\",         best_model_over.best_estimator_))\n",
    "if 'best_model_smote' in globals(): models_to_eval.append((\"Árbol – SMOTE\",                best_model_smote.best_estimator_))\n",
    "\n",
    "if models_to_eval:\n",
    "    metrics_map = {}\n",
    "    for nombre, est in models_to_eval:\n",
    "        metrics_map[nombre] = evaluar_modelo(est, X_train, y_train, X_test, y_test, nombre=nombre)\n",
    "\n",
    "    # (opcional) dejar variables sueltas como antes:\n",
    "    if 'best_model_base'  in globals(): metrics_base  = metrics_map[\"Árbol – Base (sin balanceo)\"]\n",
    "    if 'best_model_under' in globals(): metrics_under = metrics_map[\"Árbol – Undersampling\"]\n",
    "    if 'best_model_over'  in globals(): metrics_over  = metrics_map[\"Árbol – Oversampling\"]\n",
    "    if 'best_model_smote' in globals(): metrics_smote = metrics_map[\"Árbol – SMOTE\"]\n",
    "else:\n",
    "    print(\"⛔ No hay modelos para evaluar. Ejecuta primero Base/Under/Over/SMOTE.\")"
   ]
  },
  {
   "cell_type": "code",
   "execution_count": 34,
   "metadata": {},
   "outputs": [
    {
     "data": {
      "text/plain": [
       "{'train_acc': 0.9220714285714285,\n",
       " 'test_acc': 0.9210833333333334,\n",
       " 'train_recall': 0.037693006357856496,\n",
       " 'test_recall': 0.02863202545068929,\n",
       " 'train_prec': 0.5684931506849316,\n",
       " 'test_prec': 0.46551724137931033,\n",
       " 'roc_auc': 0.7670754772987289}"
      ]
     },
     "execution_count": 34,
     "metadata": {},
     "output_type": "execute_result"
    }
   ],
   "source": [
    "metrics_base"
   ]
  },
  {
   "cell_type": "markdown",
   "metadata": {},
   "source": [
    "## Escoger el mejor modelo y extraer el árbol final"
   ]
  },
  {
   "cell_type": "code",
   "execution_count": 35,
   "metadata": {},
   "outputs": [
    {
     "name": "stdout",
     "output_type": "stream",
     "text": [
      "\n",
      ">>> Mejor enfoque según Recall (test): UNDER con Recall=0.7773\n",
      "\n",
      "Hiperparámetros del árbol ganador:\n",
      " {'ccp_alpha': 0.0, 'class_weight': None, 'criterion': 'entropy', 'max_depth': 4, 'max_features': None, 'max_leaf_nodes': 512, 'min_impurity_decrease': 0.0, 'min_samples_leaf': 1, 'min_samples_split': 2, 'min_weight_fraction_leaf': 0.0, 'monotonic_cst': None, 'random_state': 2025, 'splitter': 'best'}\n"
     ]
    }
   ],
   "source": [
    "candidatos = []\n",
    "\n",
    "if 'best_model_base'  in globals() and 'metrics_base'  in globals():\n",
    "    candidatos.append((\"base\",  best_model_base,  metrics_base[\"test_recall\"]))\n",
    "if 'best_model_under' in globals() and 'metrics_under' in globals():\n",
    "    candidatos.append((\"under\", best_model_under, metrics_under[\"test_recall\"]))\n",
    "if 'best_model_over'  in globals() and 'metrics_over'  in globals():\n",
    "    candidatos.append((\"over\",  best_model_over,  metrics_over[\"test_recall\"]))\n",
    "if 'best_model_smote' in globals() and 'metrics_smote' in globals():\n",
    "    candidatos.append((\"smote\", best_model_smote, metrics_smote[\"test_recall\"]))\n",
    "\n",
    "if candidatos:\n",
    "    mejor_nombre, best_model, best_rec = max(candidatos, key=lambda x: x[2])\n",
    "    print(f\"\\n>>> Mejor enfoque según Recall (test): {mejor_nombre.upper()} con Recall={best_rec:.4f}\")\n",
    "    dt_model = best_model.best_estimator_['model']\n",
    "    print(\"\\nHiperparámetros del árbol ganador:\\n\", dt_model.get_params())\n",
    "else:\n",
    "    print(\"⛔ No hay candidatos para comparar. Corre las celdas de entrenamiento/validación primero.\")\n"
   ]
  },
  {
   "cell_type": "markdown",
   "metadata": {},
   "source": [
    "## Curvas ROC y Precision-Recall del modelo ganador"
   ]
  },
  {
   "cell_type": "code",
   "execution_count": 36,
   "metadata": {},
   "outputs": [
    {
     "data": {
      "image/png": "[encoded data removed]",
      "text/plain": [
       "<Figure size 800x550 with 2 Axes>"
      ]
     },
     "metadata": {},
     "output_type": "display_data"
    },
    {
     "data": {
      "image/png": "[encoded data removed]",
      "text/plain": [
       "<Figure size 800x550 with 1 Axes>"
      ]
     },
     "metadata": {},
     "output_type": "display_data"
    },
    {
     "data": {
      "image/png": "[encoded data removed]",
      "text/plain": [
       "<Figure size 800x550 with 1 Axes>"
      ]
     },
     "metadata": {},
     "output_type": "display_data"
    }
   ],
   "source": [
    "import matplotlib.pyplot as plt\n",
    "from sklearn.metrics import (\n",
    "    confusion_matrix, ConfusionMatrixDisplay,\n",
    "    roc_curve, roc_auc_score,\n",
    "    precision_recall_curve, average_precision_score\n",
    ")\n",
    "\n",
    "# === Modelo ganador: best_model_under ===\n",
    "best_est = best_model_under.best_estimator_\n",
    "\n",
    "# Probabilidades y predicciones en test\n",
    "y_proba = best_est.predict_proba(X_test)[:,1]\n",
    "y_pred  = (y_proba >= 0.5).astype(int)\n",
    "\n",
    "# === Matriz de confusión ===\n",
    "cm = confusion_matrix(y_test, y_pred)\n",
    "ConfusionMatrixDisplay(cm).plot(cmap=\"Blues\")\n",
    "plt.title(\"Matriz de confusión – Modelo UNDER (umbral 0.5)\")\n",
    "plt.show()\n",
    "\n",
    "# === Curva ROC ===\n",
    "fpr, tpr, _ = roc_curve(y_test, y_proba)\n",
    "roc_auc = roc_auc_score(y_test, y_proba)\n",
    "\n",
    "plt.figure()\n",
    "plt.plot(fpr, tpr, label=f\"ROC (AUC={roc_auc:.3f})\", lw=2)\n",
    "plt.plot([0,1],[0,1],\"--\", color=\"gray\")\n",
    "plt.xlabel(\"False Positive Rate\")\n",
    "plt.ylabel(\"True Positive Rate (Recall)\")\n",
    "plt.title(\"Curva ROC – Modelo UNDER\")\n",
    "plt.legend()\n",
    "plt.grid(True)\n",
    "plt.show()\n",
    "\n",
    "# === Curva Precision–Recall ===\n",
    "prec, rec, _ = precision_recall_curve(y_test, y_proba)\n",
    "ap = average_precision_score(y_test, y_proba)\n",
    "\n",
    "plt.figure()\n",
    "plt.plot(rec, prec, label=f\"PR (AP={ap:.3f})\", lw=2, color=\"darkorange\")\n",
    "plt.xlabel(\"Recall\")\n",
    "plt.ylabel(\"Precision\")\n",
    "plt.title(\"Curva Precision–Recall – Modelo UNDER\")\n",
    "plt.legend()\n",
    "plt.grid(True)\n",
    "plt.show()\n"
   ]
  },
  {
   "cell_type": "markdown",
   "metadata": {},
   "source": [
    "# **Modelo XGBOOST CON REGULARIZACION**"
   ]
  },
  {
   "cell_type": "markdown",
   "metadata": {},
   "source": [
    "## Balanceo UNDER"
   ]
  },
  {
   "cell_type": "code",
   "execution_count": 37,
   "metadata": {},
   "outputs": [
    {
     "name": "stdout",
     "output_type": "stream",
     "text": [
      "UNDER aplicado\n",
      "Tamaño original   : 28000 filas\n",
      "Tamaño balanceado : 4404 filas\n",
      "\n",
      "Distribución original (conteo y %):\n"
     ]
    },
    {
     "data": {
      "text/html": [
       "<div>\n",
       "<style scoped>\n",
       "    .dataframe tbody tr th:only-of-type {\n",
       "        vertical-align: middle;\n",
       "    }\n",
       "\n",
       "    .dataframe tbody tr th {\n",
       "        vertical-align: top;\n",
       "    }\n",
       "\n",
       "    .dataframe thead th {\n",
       "        text-align: right;\n",
       "    }\n",
       "</style>\n",
       "<table border=\"1\" class=\"dataframe\">\n",
       "  <thead>\n",
       "    <tr style=\"text-align: right;\">\n",
       "      <th></th>\n",
       "      <th>count</th>\n",
       "      <th>pct%</th>\n",
       "    </tr>\n",
       "    <tr>\n",
       "      <th>CLIENTE_MORA</th>\n",
       "      <th></th>\n",
       "      <th></th>\n",
       "    </tr>\n",
       "  </thead>\n",
       "  <tbody>\n",
       "    <tr>\n",
       "      <th>0</th>\n",
       "      <td>25798</td>\n",
       "      <td>92.14</td>\n",
       "    </tr>\n",
       "    <tr>\n",
       "      <th>1</th>\n",
       "      <td>2202</td>\n",
       "      <td>7.86</td>\n",
       "    </tr>\n",
       "  </tbody>\n",
       "</table>\n",
       "</div>"
      ],
      "text/plain": [
       "              count   pct%\n",
       "CLIENTE_MORA              \n",
       "0             25798  92.14\n",
       "1              2202   7.86"
      ]
     },
     "metadata": {},
     "output_type": "display_data"
    },
    {
     "name": "stdout",
     "output_type": "stream",
     "text": [
      "Distribución balanceada (conteo y %):\n"
     ]
    },
    {
     "data": {
      "text/html": [
       "<div>\n",
       "<style scoped>\n",
       "    .dataframe tbody tr th:only-of-type {\n",
       "        vertical-align: middle;\n",
       "    }\n",
       "\n",
       "    .dataframe tbody tr th {\n",
       "        vertical-align: top;\n",
       "    }\n",
       "\n",
       "    .dataframe thead th {\n",
       "        text-align: right;\n",
       "    }\n",
       "</style>\n",
       "<table border=\"1\" class=\"dataframe\">\n",
       "  <thead>\n",
       "    <tr style=\"text-align: right;\">\n",
       "      <th></th>\n",
       "      <th>count</th>\n",
       "      <th>pct%</th>\n",
       "    </tr>\n",
       "    <tr>\n",
       "      <th>CLIENTE_MORA</th>\n",
       "      <th></th>\n",
       "      <th></th>\n",
       "    </tr>\n",
       "  </thead>\n",
       "  <tbody>\n",
       "    <tr>\n",
       "      <th>0</th>\n",
       "      <td>2202</td>\n",
       "      <td>50.0</td>\n",
       "    </tr>\n",
       "    <tr>\n",
       "      <th>1</th>\n",
       "      <td>2202</td>\n",
       "      <td>50.0</td>\n",
       "    </tr>\n",
       "  </tbody>\n",
       "</table>\n",
       "</div>"
      ],
      "text/plain": [
       "              count  pct%\n",
       "CLIENTE_MORA             \n",
       "0              2202  50.0\n",
       "1              2202  50.0"
      ]
     },
     "metadata": {},
     "output_type": "display_data"
    }
   ],
   "source": [
    "from imblearn.under_sampling import RandomUnderSampler\n",
    "import pandas as pd\n",
    "\n",
    "under = RandomUnderSampler(sampling_strategy=1.0, random_state=seed)\n",
    "X_train_under, y_train_under = under.fit_resample(X_train, y_train)\n",
    "\n",
    "# Resúmenes\n",
    "def resumen(y):\n",
    "    c = y.value_counts().sort_index()\n",
    "    p = y.value_counts(normalize=True).sort_index().mul(100).round(2)\n",
    "    return pd.DataFrame({\"count\": c, \"pct%\": p})\n",
    "\n",
    "print(\"UNDER aplicado\")\n",
    "print(f\"Tamaño original   : {X_train.shape[0]} filas\")\n",
    "print(f\"Tamaño balanceado : {X_train_under.shape[0]} filas\\n\")\n",
    "\n",
    "print(\"Distribución original (conteo y %):\")\n",
    "display(resumen(y_train))\n",
    "\n",
    "print(\"Distribución balanceada (conteo y %):\")\n",
    "display(resumen(y_train_under))\n"
   ]
  },
  {
   "cell_type": "markdown",
   "metadata": {},
   "source": [
    "## XGBoost SIN regularización"
   ]
  },
  {
   "cell_type": "code",
   "execution_count": 38,
   "metadata": {},
   "outputs": [
    {
     "name": "stdout",
     "output_type": "stream",
     "text": [
      "=== XGB – Base (sin reg) ===\n",
      "Train Accuracy  :  0.8894187102633969\n",
      "Test  Accuracy  :  0.676\n",
      "Train Recall    :  0.8932788374205268\n",
      "Test  Recall    :  0.6998939554612937\n",
      "Train Precision :  0.886435331230284\n",
      "Test  Precision :  0.15474794841735054\n",
      "ROC AUC (test)  :  0.7615345374604227\n",
      "\n",
      "Confusion Matrix:\n",
      "[[7452 3605]\n",
      " [ 283  660]]\n",
      "\n",
      "Classification Report:\n",
      "              precision    recall  f1-score   support\n",
      "\n",
      "           0       0.96      0.67      0.79     11057\n",
      "           1       0.15      0.70      0.25       943\n",
      "\n",
      "    accuracy                           0.68     12000\n",
      "   macro avg       0.56      0.69      0.52     12000\n",
      "weighted avg       0.90      0.68      0.75     12000\n",
      "\n"
     ]
    }
   ],
   "source": [
    "from xgboost import XGBClassifier\n",
    "from sklearn.pipeline import Pipeline\n",
    "\n",
    "xgb_base = Pipeline(steps=[\n",
    "    ('prep', preprocessing_pipeline),\n",
    "    ('clf', XGBClassifier(\n",
    "        n_estimators=300, max_depth=4, learning_rate=0.1,\n",
    "        subsample=0.8, colsample_bytree=0.8,\n",
    "        reg_lambda=0, reg_alpha=0,                # sin regularización\n",
    "        eval_metric=\"auc\", random_state=seed\n",
    "    ))\n",
    "])\n",
    "\n",
    "xgb_base.fit(X_train_under, y_train_under)\n",
    "metrics_xgb_base = evaluar_modelo(xgb_base, X_train_under, y_train_under, X_test, y_test, \"XGB – Base (sin reg)\")"
   ]
  },
  {
   "cell_type": "markdown",
   "metadata": {},
   "source": [
    "## XGBoost con Ridge (L2: reg_lambda)"
   ]
  },
  {
   "cell_type": "code",
   "execution_count": 39,
   "metadata": {},
   "outputs": [
    {
     "name": "stdout",
     "output_type": "stream",
     "text": [
      "=== XGB – Ridge (L2) ===\n",
      "Train Accuracy  :  0.8335603996366939\n",
      "Test  Accuracy  :  0.6821666666666667\n",
      "Train Recall    :  0.8437783832879201\n",
      "Test  Recall    :  0.7147401908801697\n",
      "Train Precision :  0.82688028482421\n",
      "Test  Precision :  0.15975349608912065\n",
      "ROC AUC (test)  :  0.7634102895523256\n",
      "\n",
      "Confusion Matrix:\n",
      "[[7512 3545]\n",
      " [ 269  674]]\n",
      "\n",
      "Classification Report:\n",
      "              precision    recall  f1-score   support\n",
      "\n",
      "           0       0.97      0.68      0.80     11057\n",
      "           1       0.16      0.71      0.26       943\n",
      "\n",
      "    accuracy                           0.68     12000\n",
      "   macro avg       0.56      0.70      0.53     12000\n",
      "weighted avg       0.90      0.68      0.76     12000\n",
      "\n"
     ]
    }
   ],
   "source": [
    "xgb_ridge = Pipeline(steps=[\n",
    "    ('prep', preprocessing_pipeline),\n",
    "    ('clf', XGBClassifier(\n",
    "        n_estimators=300, max_depth=4, learning_rate=0.1,\n",
    "        subsample=0.8, colsample_bytree=0.8,\n",
    "        reg_lambda=10, reg_alpha=0,               # Ridge\n",
    "        eval_metric=\"auc\", random_state=seed\n",
    "    ))\n",
    "])\n",
    "\n",
    "xgb_ridge.fit(X_train_under, y_train_under)\n",
    "metrics_xgb_ridge = evaluar_modelo(xgb_ridge, X_train_under, y_train_under, X_test, y_test, \"XGB – Ridge (L2)\")\n"
   ]
  },
  {
   "cell_type": "markdown",
   "metadata": {},
   "source": [
    "## XGBoost con Lasso (L1: reg_alpha)"
   ]
  },
  {
   "cell_type": "code",
   "execution_count": 40,
   "metadata": {},
   "outputs": [
    {
     "name": "stdout",
     "output_type": "stream",
     "text": [
      "=== XGB – Lasso (L1) ===\n",
      "Train Accuracy  :  0.7756584922797457\n",
      "Test  Accuracy  :  0.6855833333333333\n",
      "Train Recall    :  0.7856494096276113\n",
      "Test  Recall    :  0.7242841993637328\n",
      "Train Precision :  0.7702582368655387\n",
      "Test  Precision :  0.16277407054337464\n",
      "ROC AUC (test)  :  0.7708649607149918\n",
      "\n",
      "Confusion Matrix:\n",
      "[[7544 3513]\n",
      " [ 260  683]]\n",
      "\n",
      "Classification Report:\n",
      "              precision    recall  f1-score   support\n",
      "\n",
      "           0       0.97      0.68      0.80     11057\n",
      "           1       0.16      0.72      0.27       943\n",
      "\n",
      "    accuracy                           0.69     12000\n",
      "   macro avg       0.56      0.70      0.53     12000\n",
      "weighted avg       0.90      0.69      0.76     12000\n",
      "\n"
     ]
    }
   ],
   "source": [
    "xgb_lasso = Pipeline(steps=[\n",
    "    ('prep', preprocessing_pipeline),\n",
    "    ('clf', XGBClassifier(\n",
    "        n_estimators=300, max_depth=4, learning_rate=0.1,\n",
    "        subsample=0.8, colsample_bytree=0.8,\n",
    "        reg_lambda=0, reg_alpha=10,               # Lasso\n",
    "        eval_metric=\"auc\", random_state=seed\n",
    "    ))\n",
    "])\n",
    "\n",
    "xgb_lasso.fit(X_train_under, y_train_under)\n",
    "metrics_xgb_lasso = evaluar_modelo(xgb_lasso, X_train_under, y_train_under, X_test, y_test, \"XGB – Lasso (L1)\")\n",
    "\n"
   ]
  },
  {
   "cell_type": "markdown",
   "metadata": {},
   "source": [
    "## XGBoost con Elastic Net (L1 + L2)"
   ]
  },
  {
   "cell_type": "code",
   "execution_count": 41,
   "metadata": {},
   "outputs": [
    {
     "name": "stdout",
     "output_type": "stream",
     "text": [
      "=== XGB – Elastic Net ===\n",
      "Train Accuracy  :  0.8047229791099001\n",
      "Test  Accuracy  :  0.6824166666666667\n",
      "Train Recall    :  0.8192552225249773\n",
      "Test  Recall    :  0.7179215270413574\n",
      "Train Precision :  0.7961165048543689\n",
      "Test  Precision :  0.16035054476551397\n",
      "ROC AUC (test)  :  0.7672688261185101\n",
      "\n",
      "Confusion Matrix:\n",
      "[[7512 3545]\n",
      " [ 266  677]]\n",
      "\n",
      "Classification Report:\n",
      "              precision    recall  f1-score   support\n",
      "\n",
      "           0       0.97      0.68      0.80     11057\n",
      "           1       0.16      0.72      0.26       943\n",
      "\n",
      "    accuracy                           0.68     12000\n",
      "   macro avg       0.56      0.70      0.53     12000\n",
      "weighted avg       0.90      0.68      0.76     12000\n",
      "\n"
     ]
    }
   ],
   "source": [
    "xgb_elastic = Pipeline(steps=[\n",
    "    ('prep', preprocessing_pipeline),\n",
    "    ('clf', XGBClassifier(\n",
    "        n_estimators=300, max_depth=4, learning_rate=0.1,\n",
    "        subsample=0.8, colsample_bytree=0.8,\n",
    "        reg_lambda=5, reg_alpha=5,                # Elastic Net\n",
    "        eval_metric=\"auc\", random_state=seed\n",
    "    ))\n",
    "])\n",
    "\n",
    "xgb_elastic.fit(X_train_under, y_train_under)\n",
    "metrics_xgb_elastic = evaluar_modelo(xgb_elastic, X_train_under, y_train_under, X_test, y_test, \"XGB – Elastic Net\")\n"
   ]
  },
  {
   "cell_type": "markdown",
   "metadata": {},
   "source": [
    "## Comparación de métricas (Accuracy, Recall, Precision, AUC)"
   ]
  },
  {
   "cell_type": "code",
   "execution_count": 42,
   "metadata": {},
   "outputs": [
    {
     "data": {
      "text/html": [
       "<div>\n",
       "<style scoped>\n",
       "    .dataframe tbody tr th:only-of-type {\n",
       "        vertical-align: middle;\n",
       "    }\n",
       "\n",
       "    .dataframe tbody tr th {\n",
       "        vertical-align: top;\n",
       "    }\n",
       "\n",
       "    .dataframe thead th {\n",
       "        text-align: right;\n",
       "    }\n",
       "</style>\n",
       "<table border=\"1\" class=\"dataframe\">\n",
       "  <thead>\n",
       "    <tr style=\"text-align: right;\">\n",
       "      <th></th>\n",
       "      <th>Modelo</th>\n",
       "      <th>train_acc</th>\n",
       "      <th>test_acc</th>\n",
       "      <th>train_recall</th>\n",
       "      <th>test_recall</th>\n",
       "      <th>train_prec</th>\n",
       "      <th>test_prec</th>\n",
       "      <th>roc_auc</th>\n",
       "    </tr>\n",
       "  </thead>\n",
       "  <tbody>\n",
       "    <tr>\n",
       "      <th>0</th>\n",
       "      <td>XGB Base</td>\n",
       "      <td>0.889419</td>\n",
       "      <td>0.676000</td>\n",
       "      <td>0.893279</td>\n",
       "      <td>0.699894</td>\n",
       "      <td>0.886435</td>\n",
       "      <td>0.154748</td>\n",
       "      <td>0.761535</td>\n",
       "    </tr>\n",
       "    <tr>\n",
       "      <th>1</th>\n",
       "      <td>XGB Ridge (L2)</td>\n",
       "      <td>0.833560</td>\n",
       "      <td>0.682167</td>\n",
       "      <td>0.843778</td>\n",
       "      <td>0.714740</td>\n",
       "      <td>0.826880</td>\n",
       "      <td>0.159753</td>\n",
       "      <td>0.763410</td>\n",
       "    </tr>\n",
       "    <tr>\n",
       "      <th>2</th>\n",
       "      <td>XGB Lasso (L1)</td>\n",
       "      <td>0.775658</td>\n",
       "      <td>0.685583</td>\n",
       "      <td>0.785649</td>\n",
       "      <td>0.724284</td>\n",
       "      <td>0.770258</td>\n",
       "      <td>0.162774</td>\n",
       "      <td>0.770865</td>\n",
       "    </tr>\n",
       "    <tr>\n",
       "      <th>3</th>\n",
       "      <td>XGB Elastic</td>\n",
       "      <td>0.804723</td>\n",
       "      <td>0.682417</td>\n",
       "      <td>0.819255</td>\n",
       "      <td>0.717922</td>\n",
       "      <td>0.796117</td>\n",
       "      <td>0.160351</td>\n",
       "      <td>0.767269</td>\n",
       "    </tr>\n",
       "  </tbody>\n",
       "</table>\n",
       "</div>"
      ],
      "text/plain": [
       "           Modelo  train_acc  test_acc  train_recall  test_recall  train_prec  \\\n",
       "0        XGB Base   0.889419  0.676000      0.893279     0.699894    0.886435   \n",
       "1  XGB Ridge (L2)   0.833560  0.682167      0.843778     0.714740    0.826880   \n",
       "2  XGB Lasso (L1)   0.775658  0.685583      0.785649     0.724284    0.770258   \n",
       "3     XGB Elastic   0.804723  0.682417      0.819255     0.717922    0.796117   \n",
       "\n",
       "   test_prec   roc_auc  \n",
       "0   0.154748  0.761535  \n",
       "1   0.159753  0.763410  \n",
       "2   0.162774  0.770865  \n",
       "3   0.160351  0.767269  "
      ]
     },
     "metadata": {},
     "output_type": "display_data"
    }
   ],
   "source": [
    "import pandas as pd\n",
    "\n",
    "df_xgb = pd.DataFrame([\n",
    "    {\"Modelo\": \"XGB Base\",        **metrics_xgb_base},\n",
    "    {\"Modelo\": \"XGB Ridge (L2)\",  **metrics_xgb_ridge},\n",
    "    {\"Modelo\": \"XGB Lasso (L1)\",  **metrics_xgb_lasso},\n",
    "    {\"Modelo\": \"XGB Elastic\",     **metrics_xgb_elastic},\n",
    "])\n",
    "display(df_xgb)\n"
   ]
  },
  {
   "cell_type": "markdown",
   "metadata": {},
   "source": [
    "## Curvas ROC comparativas (con AUC)"
   ]
  },
  {
   "cell_type": "code",
   "execution_count": 43,
   "metadata": {},
   "outputs": [
    {
     "data": {
      "image/png": "[encoded data removed]",
      "text/plain": [
       "<Figure size 600x500 with 1 Axes>"
      ]
     },
     "metadata": {},
     "output_type": "display_data"
    }
   ],
   "source": [
    "import matplotlib.pyplot as plt\n",
    "from sklearn.metrics import roc_curve, roc_auc_score\n",
    "\n",
    "plt.figure(figsize=(6,5))\n",
    "for nombre, modelo in [\n",
    "    (\"XGB Base\", xgb_base),\n",
    "    (\"XGB Ridge (L2)\", xgb_ridge),\n",
    "    (\"XGB Lasso (L1)\", xgb_lasso),\n",
    "    (\"XGB Elastic\", xgb_elastic),\n",
    "]:\n",
    "    y_proba = modelo.predict_proba(X_test)[:,1]\n",
    "    fpr, tpr, _ = roc_curve(y_test, y_proba)\n",
    "    auc = roc_auc_score(y_test, y_proba)\n",
    "    plt.plot(fpr, tpr, lw=2, label=f\"{nombre} (AUC={auc:.3f})\")\n",
    "\n",
    "plt.plot([0,1],[0,1],'--',color='gray')\n",
    "plt.xlabel(\"False Positive Rate\")\n",
    "plt.ylabel(\"True Positive Rate (Recall)\")\n",
    "plt.title(\"Curvas ROC – XGBoost (Base vs Regularizaciones)\")\n",
    "plt.legend()\n",
    "plt.grid(True)\n",
    "plt.show()\n"
   ]
  },
  {
   "cell_type": "code",
   "execution_count": 44,
   "metadata": {},
   "outputs": [
    {
     "data": {
      "image/png": "[encoded data removed]",
      "text/plain": [
       "<Figure size 600x500 with 1 Axes>"
      ]
     },
     "metadata": {},
     "output_type": "display_data"
    }
   ],
   "source": [
    "import matplotlib.pyplot as plt\n",
    "from sklearn.metrics import precision_recall_curve, average_precision_score\n",
    "\n",
    "plt.figure(figsize=(6,5))\n",
    "\n",
    "for nombre, modelo in [\n",
    "    (\"XGB Base\", xgb_base),\n",
    "    (\"XGB Ridge (L2)\", xgb_ridge),\n",
    "    (\"XGB Lasso (L1)\", xgb_lasso),\n",
    "    (\"XGB Elastic\", xgb_elastic),\n",
    "]:\n",
    "    y_proba = modelo.predict_proba(X_test)[:, 1]\n",
    "    prec, rec, _ = precision_recall_curve(y_test, y_proba)\n",
    "    ap = average_precision_score(y_test, y_proba)\n",
    "    plt.plot(rec, prec, lw=2, label=f\"{nombre} (AP={ap:.3f})\")\n",
    "\n",
    "# línea base: proporción positiva en test\n",
    "pos_rate = (y_test == 1).mean()\n",
    "plt.hlines(pos_rate, 0, 1, linestyles='--', colors='gray', label=f\"Base rate = {pos_rate:.2f}\")\n",
    "\n",
    "plt.xlabel(\"Recall\")\n",
    "plt.ylabel(\"Precision\")\n",
    "plt.title(\"Curvas Precision–Recall – XGBoost (Base vs Regularizaciones)\")\n",
    "plt.legend()\n",
    "plt.grid(True)\n",
    "plt.xlim(0, 1); plt.ylim(0, 1)\n",
    "plt.show()\n"
   ]
  },
  {
   "cell_type": "code",
   "execution_count": 45,
   "metadata": {},
   "outputs": [
    {
     "name": "stdout",
     "output_type": "stream",
     "text": [
      ">>> Mejor por AUC     : XGB Lasso  | AUC=0.7709\n",
      ">>> Mejor por Recall  : XGB Lasso | Recall=0.7243\n",
      "\n",
      "Hiperparámetros – ganador por AUC:\n",
      "{'objective': 'binary:logistic', 'base_score': None, 'booster': None, 'callbacks': None, 'colsample_bylevel': None, 'colsample_bynode': None, 'colsample_bytree': 0.8, 'device': None, 'early_stopping_rounds': None, 'enable_categorical': False, 'eval_metric': 'auc', 'feature_types': None, 'feature_weights': None, 'gamma': None, 'grow_policy': None, 'importance_type': None, 'interaction_constraints': None, 'learning_rate': 0.1, 'max_bin': None, 'max_cat_threshold': None, 'max_cat_to_onehot': None, 'max_delta_step': None, 'max_depth': 4, 'max_leaves': None, 'min_child_weight': None, 'missing': nan, 'monotone_constraints': None, 'multi_strategy': None, 'n_estimators': 300, 'n_jobs': None, 'num_parallel_tree': None, 'random_state': 2025, 'reg_alpha': 10, 'reg_lambda': 0, 'sampling_method': None, 'scale_pos_weight': None, 'subsample': 0.8, 'tree_method': None, 'validate_parameters': None, 'verbosity': None}\n",
      "\n",
      "Hiperparámetros – ganador por Recall:\n",
      "{'objective': 'binary:logistic', 'base_score': None, 'booster': None, 'callbacks': None, 'colsample_bylevel': None, 'colsample_bynode': None, 'colsample_bytree': 0.8, 'device': None, 'early_stopping_rounds': None, 'enable_categorical': False, 'eval_metric': 'auc', 'feature_types': None, 'feature_weights': None, 'gamma': None, 'grow_policy': None, 'importance_type': None, 'interaction_constraints': None, 'learning_rate': 0.1, 'max_bin': None, 'max_cat_threshold': None, 'max_cat_to_onehot': None, 'max_delta_step': None, 'max_depth': 4, 'max_leaves': None, 'min_child_weight': None, 'missing': nan, 'monotone_constraints': None, 'multi_strategy': None, 'n_estimators': 300, 'n_jobs': None, 'num_parallel_tree': None, 'random_state': 2025, 'reg_alpha': 10, 'reg_lambda': 0, 'sampling_method': None, 'scale_pos_weight': None, 'subsample': 0.8, 'tree_method': None, 'validate_parameters': None, 'verbosity': None}\n"
     ]
    }
   ],
   "source": [
    "# Elegir mejores modelos por AUC y por Recall (test)\n",
    "candidatos = [\n",
    "    (\"XGB Base\",    xgb_base,    metrics_xgb_base),\n",
    "    (\"XGB Ridge\",   xgb_ridge,   metrics_xgb_ridge),\n",
    "    (\"XGB Lasso\",   xgb_lasso,   metrics_xgb_lasso),\n",
    "    (\"XGB Elastic\", xgb_elastic, metrics_xgb_elastic),\n",
    "]\n",
    "\n",
    "# Mejor por AUC\n",
    "mejor_auc_nombre, mejor_auc_modelo, mejor_auc_score = max(\n",
    "    ((n, m, met[\"roc_auc\"]) for n, m, met in candidatos),\n",
    "    key=lambda t: t[2]\n",
    ")\n",
    "\n",
    "# Mejor por Recall (test)\n",
    "mejor_rec_nombre, mejor_rec_modelo, mejor_rec_score = max(\n",
    "    ((n, m, met[\"test_recall\"]) for n, m, met in candidatos),\n",
    "    key=lambda t: t[2]\n",
    ")\n",
    "\n",
    "print(f\">>> Mejor por AUC     : {mejor_auc_nombre}  | AUC={mejor_auc_score:.4f}\")\n",
    "print(f\">>> Mejor por Recall  : {mejor_rec_nombre} | Recall={mejor_rec_score:.4f}\")\n",
    "\n",
    "# (Opcional) hiperparámetros internos del clasificador ganador en cada criterio\n",
    "print(\"\\nHiperparámetros – ganador por AUC:\")\n",
    "print(mejor_auc_modelo.named_steps['clf'].get_params())\n",
    "\n",
    "print(\"\\nHiperparámetros – ganador por Recall:\")\n",
    "print(mejor_rec_modelo.named_steps['clf'].get_params())\n",
    "\n",
    "# (Opcional) dejar variables de salida para usar después\n",
    "best_by_auc     = {\"nombre\": mejor_auc_nombre, \"modelo\": mejor_auc_modelo, \"score\": mejor_auc_score}\n",
    "best_by_recall  = {\"nombre\": mejor_rec_nombre, \"modelo\": mejor_rec_modelo, \"score\": mejor_rec_score}\n",
    "\n"
   ]
  },
  {
   "cell_type": "markdown",
   "metadata": {},
   "source": [
    "# Código completo XGBOOST con Undersampling y Regularización L1, cross_validation y Optimización del umbral."
   ]
  },
  {
   "cell_type": "code",
   "execution_count": 46,
   "metadata": {},
   "outputs": [
    {
     "name": "stdout",
     "output_type": "stream",
     "text": [
      "UNDER aplicado correctamente ✅\n",
      "Tamaño original: 28000 filas\n",
      "Tamaño balanceado: 4404 filas\n",
      "\n",
      "Distribución original:\n",
      "CLIENTE_MORA\n",
      "0    25798\n",
      "1     2202\n",
      "Name: count, dtype: int64\n",
      "\n",
      "Distribución balanceada:\n",
      "CLIENTE_MORA\n",
      "0    2202\n",
      "1    2202\n",
      "Name: count, dtype: int64\n"
     ]
    }
   ],
   "source": [
    "# ===============================================\n",
    "# 1️⃣ BALANCEO DE CLASES (UNDERSAMPLING)\n",
    "# ===============================================\n",
    "from imblearn.under_sampling import RandomUnderSampler\n",
    "\n",
    "# Se iguala la cantidad de clases para evitar sesgo hacia la clase mayoritaria\n",
    "under = RandomUnderSampler(sampling_strategy=1.0, random_state=seed)\n",
    "X_train_under, y_train_under = under.fit_resample(X_train, y_train)\n",
    "\n",
    "# Mostrar tamaños y proporciones\n",
    "print(\"UNDER aplicado correctamente ✅\")\n",
    "print(f\"Tamaño original: {X_train.shape[0]} filas\")\n",
    "print(f\"Tamaño balanceado: {X_train_under.shape[0]} filas\\n\")\n",
    "\n",
    "print(\"Distribución original:\")\n",
    "print(y_train.value_counts())\n",
    "print(\"\\nDistribución balanceada:\")\n",
    "print(y_train_under.value_counts())"
   ]
  },
  {
   "cell_type": "code",
   "execution_count": 47,
   "metadata": {},
   "outputs": [
    {
     "name": "stdout",
     "output_type": "stream",
     "text": [
      "Modelo XGBoost con regularización L1 configurado ✅\n"
     ]
    }
   ],
   "source": [
    "# ===============================================\n",
    "# 2️⃣ MODELO XGBOOST CON REGULARIZACIÓN LASSO (L1)\n",
    "# ===============================================\n",
    "from xgboost import XGBClassifier\n",
    "from sklearn.pipeline import Pipeline\n",
    "\n",
    "# Regularización L1 se controla con reg_alpha > 0\n",
    "xgb_lasso = Pipeline(steps=[\n",
    "    ('prep', preprocessing_pipeline),\n",
    "    ('clf', XGBClassifier(\n",
    "        n_estimators=300, max_depth=4, learning_rate=0.1,\n",
    "        subsample=0.8, colsample_bytree=0.8,\n",
    "        reg_lambda=0, reg_alpha=10,               # Lasso (L1)\n",
    "        eval_metric=\"auc\", random_state=seed\n",
    "    ))\n",
    "])\n",
    "\n",
    "print(\"Modelo XGBoost con regularización L1 configurado ✅\")"
   ]
  },
  {
   "cell_type": "code",
   "execution_count": 48,
   "metadata": {},
   "outputs": [
    {
     "name": "stdout",
     "output_type": "stream",
     "text": [
      "AUC promedio CV: 0.766\n",
      "Average Precision (PR-AUC) CV: 0.750\n"
     ]
    }
   ],
   "source": [
    "# ===============================================\n",
    "# 3️⃣ VALIDACIÓN CRUZADA (STRATIFIED K-FOLD)\n",
    "# ===============================================\n",
    "from sklearn.model_selection import StratifiedKFold\n",
    "from sklearn.metrics import precision_recall_curve, roc_auc_score, average_precision_score\n",
    "import numpy as np\n",
    "\n",
    "# Se define validación cruzada estratificada (mantiene proporciones de clases)\n",
    "cv = StratifiedKFold(n_splits=5, shuffle=True, random_state=seed)\n",
    "\n",
    "# Vector para guardar probabilidades OOF (out-of-fold)\n",
    "oof_proba = np.zeros(len(y_train_under), dtype=float)\n",
    "\n",
    "for tr_idx, va_idx in cv.split(X_train_under, y_train_under):\n",
    "    xtr, xva = X_train_under.iloc[tr_idx], X_train_under.iloc[va_idx]\n",
    "    ytr, yva = y_train_under.iloc[tr_idx], y_train_under.iloc[va_idx]\n",
    "    \n",
    "    xgb_lasso.fit(xtr, ytr)\n",
    "    oof_proba[va_idx] = xgb_lasso.predict_proba(xva)[:, 1]\n",
    "\n",
    "# Calcular AUC promedio de la validación cruzada\n",
    "auc_cv = roc_auc_score(y_train_under, oof_proba)\n",
    "ap_cv  = average_precision_score(y_train_under, oof_proba)\n",
    "\n",
    "print(f\"AUC promedio CV: {auc_cv:.3f}\")\n",
    "print(f\"Average Precision (PR-AUC) CV: {ap_cv:.3f}\")"
   ]
  },
  {
   "cell_type": "code",
   "execution_count": 49,
   "metadata": {},
   "outputs": [
    {
     "name": "stdout",
     "output_type": "stream",
     "text": [
      "Umbral óptimo seleccionado: 0.360\n",
      "F1 óptimo: 0.731 | Precisión: 0.640 | Recall: 0.853\n"
     ]
    }
   ],
   "source": [
    "# ===============================================\n",
    "# 4️⃣ OPTIMIZACIÓN DEL UMBRAL (THRESHOLD)\n",
    "# ===============================================\n",
    "from sklearn.metrics import f1_score\n",
    "\n",
    "# Calculamos curva Precision-Recall\n",
    "prec, rec, thr = precision_recall_curve(y_train_under, oof_proba)\n",
    "f1 = 2 * prec * rec / (prec + rec + 1e-12)\n",
    "thr_candidates = np.r_[thr, 1.0]  # Alinear longitudes\n",
    "\n",
    "# Seleccionamos el umbral que maximiza el F1\n",
    "idx_opt = np.nanargmax(f1)\n",
    "thr_opt = float(thr_candidates[idx_opt])\n",
    "\n",
    "print(f\"Umbral óptimo seleccionado: {thr_opt:.3f}\")\n",
    "print(f\"F1 óptimo: {f1[idx_opt]:.3f} | Precisión: {prec[idx_opt]:.3f} | Recall: {rec[idx_opt]:.3f}\")"
   ]
  },
  {
   "cell_type": "code",
   "execution_count": 50,
   "metadata": {},
   "outputs": [
    {
     "name": "stdout",
     "output_type": "stream",
     "text": [
      "=== XGBoost Lasso (L1) – Threshold Óptimo ===\n",
      "Train Accuracy  :  0.7756584922797457\n",
      "Test  Accuracy  :  0.6855833333333333\n",
      "Train Recall    :  0.7856494096276113\n",
      "Test  Recall    :  0.7242841993637328\n",
      "Train Precision :  0.7702582368655387\n",
      "Test  Precision :  0.16277407054337464\n",
      "ROC AUC (test)  :  0.7708649607149918\n",
      "\n",
      "Confusion Matrix:\n",
      "[[7544 3513]\n",
      " [ 260  683]]\n",
      "\n",
      "Classification Report:\n",
      "              precision    recall  f1-score   support\n",
      "\n",
      "           0       0.97      0.68      0.80     11057\n",
      "           1       0.16      0.72      0.27       943\n",
      "\n",
      "    accuracy                           0.69     12000\n",
      "   macro avg       0.56      0.70      0.53     12000\n",
      "weighted avg       0.90      0.69      0.76     12000\n",
      "\n"
     ]
    }
   ],
   "source": [
    "# ===============================================\n",
    "# 5️⃣ REENTRENAMIENTO Y EVALUACIÓN FINAL EN TEST\n",
    "# ===============================================\n",
    "\n",
    "# Entrenamos el modelo con todos los datos balanceados\n",
    "xgb_lasso.fit(X_train_under, y_train_under)\n",
    "\n",
    "# Calculamos probabilidades y predicciones en Test con el umbral óptimo\n",
    "proba_test = xgb_lasso.predict_proba(X_test)[:, 1]\n",
    "pred_test  = (proba_test >= thr_opt).astype(int)\n",
    "\n",
    "# Evaluamos con la función definida previamente\n",
    "metrics_xgb_lasso_opt = evaluar_modelo(xgb_lasso, X_train_under, y_train_under, X_test, y_test, nombre=\"XGBoost Lasso (L1) – Threshold Óptimo\")"
   ]
  },
  {
   "cell_type": "code",
   "execution_count": null,
   "metadata": {},
   "outputs": [],
   "source": []
  }
 ],
 "metadata": {
  "interpreter": {
   "hash": "40d3a090f54c6569ab1632332b64b2c03c39dcf918b08424e98f38b5ae0af88f"
  },
  "kernelspec": {
   "display_name": "Python [conda env:base] *",
   "language": "python",
   "name": "conda-base-py"
  },
  "language_info": {
   "codemirror_mode": {
    "name": "ipython",
    "version": 3
   },
   "file_extension": ".py",
   "mimetype": "text/x-python",
   "name": "python",
   "nbconvert_exporter": "python",
   "pygments_lexer": "ipython3",
   "version": "3.12.7"
  }
 },
 "nbformat": 4,
 "nbformat_minor": 4
}
